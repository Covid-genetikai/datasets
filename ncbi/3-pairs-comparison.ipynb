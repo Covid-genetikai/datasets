{
 "cells": [
  {
   "cell_type": "code",
   "execution_count": 1,
   "id": "complete-engine",
   "metadata": {},
   "outputs": [],
   "source": [
    "import pandas as pd"
   ]
  },
  {
   "cell_type": "code",
   "execution_count": 2,
   "id": "subject-surgery",
   "metadata": {},
   "outputs": [],
   "source": [
    "# Intersection over union\n",
    "# https://en.wikipedia.org/wiki/Jaccard_index"
   ]
  },
  {
   "cell_type": "code",
   "execution_count": 3,
   "id": "junior-bundle",
   "metadata": {},
   "outputs": [],
   "source": [
    "# Pairs using levenshtein distance on aligned sgenes\n",
    "df_lev = pd.read_csv(\"resources/2021-04-16/levenshtein_aligned/pairs.csv\")"
   ]
  },
  {
   "cell_type": "code",
   "execution_count": 4,
   "id": "advised-iceland",
   "metadata": {},
   "outputs": [],
   "source": [
    "# Pairs using levenshtein distance on not aligned sgenes\n",
    "df_lev_na = pd.read_csv(\"resources/2021-04-16/levenshtein_not_aligned/pairs.csv\")"
   ]
  },
  {
   "cell_type": "code",
   "execution_count": 5,
   "id": "amino-asset",
   "metadata": {},
   "outputs": [],
   "source": [
    "# Pairs using max likelihood\n",
    "df_ml = pd.read_csv(\"resources/2021-04-16/RAxML_aligned/pairs.csv\")"
   ]
  },
  {
   "cell_type": "code",
   "execution_count": 6,
   "id": "appointed-trunk",
   "metadata": {},
   "outputs": [],
   "source": [
    "def jaccard_similarity(df1, df2):\n",
    "    pairs1 = df1[['parent', 'child']].agg('__'.join, axis=1)\n",
    "    pairs2 = df2[['parent', 'child']].agg('__'.join, axis=1)\n",
    "    \n",
    "    s1 = set(pairs1.tolist())\n",
    "    s2 = set(pairs2.tolist())\n",
    "    \n",
    "    intersection = s1.intersection(s2)\n",
    "    union = s1.union(s2)\n",
    "    \n",
    "    n_intersection = len(intersection)\n",
    "    n_union = len(union)\n",
    "    similarity = n_intersection/float(n_union)\n",
    "    \n",
    "    print(f\"Intersection {n_intersection}\")\n",
    "    print(f\"Union {n_union}\")\n",
    "    print(f\"Jaccard similarity {similarity}\")    "
   ]
  },
  {
   "cell_type": "code",
   "execution_count": 7,
   "id": "dental-tulsa",
   "metadata": {},
   "outputs": [
    {
     "name": "stdout",
     "output_type": "stream",
     "text": [
      "Intersection 859\n",
      "Union 7906\n",
      "Jaccard similarity 0.10865165696939033\n"
     ]
    }
   ],
   "source": [
    "# RAxML vs Lev aligned\n",
    "jaccard_similarity(df_ml, df_lev)"
   ]
  },
  {
   "cell_type": "code",
   "execution_count": 8,
   "id": "informal-stroke",
   "metadata": {},
   "outputs": [
    {
     "name": "stdout",
     "output_type": "stream",
     "text": [
      "Intersection 888\n",
      "Union 7878\n",
      "Jaccard similarity 0.11271896420411272\n"
     ]
    }
   ],
   "source": [
    "# RAxML vs Lev not aligned\n",
    "jaccard_similarity(df_ml, df_lev_na)"
   ]
  },
  {
   "cell_type": "code",
   "execution_count": 9,
   "id": "brown-average",
   "metadata": {},
   "outputs": [
    {
     "name": "stdout",
     "output_type": "stream",
     "text": [
      "Intersection 1287\n",
      "Union 7478\n",
      "Jaccard similarity 0.17210484086654185\n"
     ]
    }
   ],
   "source": [
    "# Lev aligned vs Lev not aligned\n",
    "jaccard_similarity(df_lev, df_lev_na)"
   ]
  }
 ],
 "metadata": {
  "kernelspec": {
   "display_name": "Python 3",
   "language": "python",
   "name": "python3"
  },
  "language_info": {
   "codemirror_mode": {
    "name": "ipython",
    "version": 3
   },
   "file_extension": ".py",
   "mimetype": "text/x-python",
   "name": "python",
   "nbconvert_exporter": "python",
   "pygments_lexer": "ipython3",
   "version": "3.8.5"
  }
 },
 "nbformat": 4,
 "nbformat_minor": 5
}
