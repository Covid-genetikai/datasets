{
 "cells": [
  {
   "cell_type": "code",
   "execution_count": 1,
   "id": "exempt-boundary",
   "metadata": {
    "ExecuteTime": {
     "end_time": "2021-02-26T15:55:35.458681Z",
     "start_time": "2021-02-26T15:55:35.209228Z"
    }
   },
   "outputs": [],
   "source": [
    "from Levenshtein import distance as levenshtein_distance\n",
    "import pandas as pd\n",
    "import numpy as np\n",
    "from joblib import parallel_backend\n",
    "from concurrent.futures import ProcessPoolExecutor\n"
   ]
  },
  {
   "cell_type": "code",
   "execution_count": 2,
   "id": "existing-clearance",
   "metadata": {
    "ExecuteTime": {
     "end_time": "2021-02-26T15:55:36.654462Z",
     "start_time": "2021-02-26T15:55:35.460153Z"
    }
   },
   "outputs": [],
   "source": [
    "df = pd.read_csv(\"ncbi.csv\")"
   ]
  },
  {
   "cell_type": "code",
   "execution_count": 3,
   "id": "indirect-cleanup",
   "metadata": {
    "ExecuteTime": {
     "end_time": "2021-02-26T15:55:36.871247Z",
     "start_time": "2021-02-26T15:55:36.655969Z"
    }
   },
   "outputs": [
    {
     "data": {
      "text/plain": [
       "(7326, 2)"
      ]
     },
     "execution_count": 3,
     "metadata": {},
     "output_type": "execute_result"
    }
   ],
   "source": [
    "X = df[['region', 'sgene_nucleotide']].drop_duplicates()\n",
    "X.shape"
   ]
  },
  {
   "cell_type": "code",
   "execution_count": 4,
   "id": "tribal-drive",
   "metadata": {
    "ExecuteTime": {
     "end_time": "2021-02-26T15:55:36.875055Z",
     "start_time": "2021-02-26T15:55:36.872691Z"
    }
   },
   "outputs": [],
   "source": [
    "def levenshtein_metric(x, y):\n",
    "#     print(x, y)\n",
    "    return levenshtein_distance(X.iloc[int(x)]['sgene_nucleotide'], \n",
    "                                X.iloc[int(y)]['sgene_nucleotide'])"
   ]
  },
  {
   "cell_type": "code",
   "execution_count": 5,
   "id": "activated-horse",
   "metadata": {
    "ExecuteTime": {
     "end_time": "2021-02-26T15:55:36.888213Z",
     "start_time": "2021-02-26T15:55:36.876884Z"
    }
   },
   "outputs": [],
   "source": [
    "nproc = 7\n",
    "N = 100\n",
    "M = np.arange(N)"
   ]
  },
  {
   "cell_type": "code",
   "execution_count": 6,
   "id": "editorial-stockholm",
   "metadata": {
    "ExecuteTime": {
     "end_time": "2021-02-26T15:55:42.484902Z",
     "start_time": "2021-02-26T15:55:36.889870Z"
    }
   },
   "outputs": [
    {
     "name": "stdout",
     "output_type": "stream",
     "text": [
      "[[0. 0. 0. ... 0. 0. 0.]\n",
      " [0. 0. 0. ... 0. 0. 0.]\n",
      " [1. 1. 0. ... 0. 0. 0.]\n",
      " ...\n",
      " [2. 2. 3. ... 0. 0. 0.]\n",
      " [2. 2. 3. ... 2. 0. 0.]\n",
      " [2. 2. 3. ... 2. 2. 0.]]\n"
     ]
    }
   ],
   "source": [
    "vfunc = np.vectorize(levenshtein_metric)\n",
    "\n",
    "def worker(indice):\n",
    "    if indice == 0:\n",
    "        return np.zeros(N)\n",
    "    \n",
    "    d = vfunc(indice, list(range(indice)))\n",
    "    d = np.pad(d, (0, N - len(d)))\n",
    "    return d\n",
    "\n",
    "with ProcessPoolExecutor(nproc) as pool:\n",
    "    results = list(pool.map(worker, M))\n",
    "#     print(results)\n",
    "    T = np.stack(np.concatenate(results))\n",
    "    T = np.stack(results)\n",
    "\n",
    "print(T)"
   ]
  },
  {
   "cell_type": "code",
   "execution_count": 7,
   "id": "right-youth",
   "metadata": {
    "ExecuteTime": {
     "end_time": "2021-02-26T15:55:47.994369Z",
     "start_time": "2021-02-26T15:55:42.486249Z"
    }
   },
   "outputs": [
    {
     "name": "stdout",
     "output_type": "stream",
     "text": [
      "[[0. 0. 0. ... 0. 0. 0.]\n",
      " [0. 0. 0. ... 0. 0. 0.]\n",
      " [1. 1. 0. ... 0. 0. 0.]\n",
      " ...\n",
      " [2. 2. 3. ... 0. 0. 0.]\n",
      " [2. 2. 3. ... 2. 0. 0.]\n",
      " [2. 2. 3. ... 2. 2. 0.]]\n"
     ]
    }
   ],
   "source": [
    "from itertools import repeat\n",
    "def worker2(indice):\n",
    "    d = list(map(levenshtein_metric, repeat(indice), list(range(indice))))\n",
    "    d = np.pad(d, (0, N - len(d)))\n",
    "    return d\n",
    "\n",
    "with ProcessPoolExecutor(nproc) as pool:\n",
    "    results = list(pool.map(worker2, M))\n",
    "    T = np.stack(results)\n",
    "\n",
    "print(T)"
   ]
  },
  {
   "cell_type": "code",
   "execution_count": 8,
   "id": "greatest-buying",
   "metadata": {
    "ExecuteTime": {
     "end_time": "2021-02-26T15:55:48.454204Z",
     "start_time": "2021-02-26T15:55:47.997263Z"
    }
   },
   "outputs": [],
   "source": [
    "from sklearn.metrics import pairwise_distances"
   ]
  },
  {
   "cell_type": "code",
   "execution_count": 9,
   "id": "applied-franchise",
   "metadata": {
    "ExecuteTime": {
     "end_time": "2021-02-26T15:55:48.460405Z",
     "start_time": "2021-02-26T15:55:48.457203Z"
    }
   },
   "outputs": [],
   "source": [
    "X100 = np.arange(N).reshape(-1, 1)"
   ]
  },
  {
   "cell_type": "code",
   "execution_count": 10,
   "id": "mature-contents",
   "metadata": {
    "ExecuteTime": {
     "end_time": "2021-02-26T15:56:11.999923Z",
     "start_time": "2021-02-26T15:55:48.463066Z"
    }
   },
   "outputs": [],
   "source": [
    "pwd = pairwise_distances(X100, metric=levenshtein_metric)"
   ]
  },
  {
   "cell_type": "code",
   "execution_count": 11,
   "id": "welcome-telling",
   "metadata": {
    "ExecuteTime": {
     "end_time": "2021-02-26T15:56:12.004926Z",
     "start_time": "2021-02-26T15:56:12.001174Z"
    }
   },
   "outputs": [
    {
     "data": {
      "text/plain": [
       "array([[0, 0, 1, ..., 2, 2, 2],\n",
       "       [0, 0, 1, ..., 2, 2, 2],\n",
       "       [1, 1, 0, ..., 3, 3, 3],\n",
       "       ...,\n",
       "       [2, 2, 3, ..., 0, 2, 2],\n",
       "       [2, 2, 3, ..., 2, 0, 2],\n",
       "       [2, 2, 3, ..., 2, 2, 0]])"
      ]
     },
     "execution_count": 11,
     "metadata": {},
     "output_type": "execute_result"
    }
   ],
   "source": [
    "pwd.astype(int)"
   ]
  },
  {
   "cell_type": "code",
   "execution_count": null,
   "id": "proper-magazine",
   "metadata": {},
   "outputs": [],
   "source": []
  }
 ],
 "metadata": {
  "kernelspec": {
   "display_name": "Python 3",
   "language": "python",
   "name": "python3"
  },
  "language_info": {
   "codemirror_mode": {
    "name": "ipython",
    "version": 3
   },
   "file_extension": ".py",
   "mimetype": "text/x-python",
   "name": "python",
   "nbconvert_exporter": "python",
   "pygments_lexer": "ipython3",
   "version": "3.8.5"
  },
  "varInspector": {
   "cols": {
    "lenName": 16,
    "lenType": 16,
    "lenVar": 40
   },
   "kernels_config": {
    "python": {
     "delete_cmd_postfix": "",
     "delete_cmd_prefix": "del ",
     "library": "var_list.py",
     "varRefreshCmd": "print(var_dic_list())"
    },
    "r": {
     "delete_cmd_postfix": ") ",
     "delete_cmd_prefix": "rm(",
     "library": "var_list.r",
     "varRefreshCmd": "cat(var_dic_list()) "
    }
   },
   "types_to_exclude": [
    "module",
    "function",
    "builtin_function_or_method",
    "instance",
    "_Feature"
   ],
   "window_display": false
  }
 },
 "nbformat": 4,
 "nbformat_minor": 5
}
