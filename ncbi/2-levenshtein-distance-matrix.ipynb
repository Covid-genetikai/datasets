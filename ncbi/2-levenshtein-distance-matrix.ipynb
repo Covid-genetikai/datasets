{
 "cells": [
  {
   "cell_type": "code",
   "execution_count": 1,
   "id": "exempt-boundary",
   "metadata": {
    "ExecuteTime": {
     "end_time": "2021-02-26T15:55:35.458681Z",
     "start_time": "2021-02-26T15:55:35.209228Z"
    }
   },
   "outputs": [],
   "source": [
    "import multiprocessing\n",
    "import pandas as pd\n",
    "import numpy as np\n",
    "from concurrent.futures import ProcessPoolExecutor\n",
    "from itertools import repeat\n",
    "from diff_match_patch import diff_match_patch"
   ]
  },
  {
   "cell_type": "code",
   "execution_count": 2,
   "id": "existing-clearance",
   "metadata": {
    "ExecuteTime": {
     "end_time": "2021-02-26T15:55:36.654462Z",
     "start_time": "2021-02-26T15:55:35.460153Z"
    }
   },
   "outputs": [],
   "source": [
    "df = pd.read_csv(\"ncbi_sgene_good_unique.csv\")\n",
    "\n",
    "N = df.shape[0]     # distance matrix size\n",
    "N = 100\n",
    "M = np.arange(N)\n",
    "\n",
    "accessions = df[\"accession\"].tolist()\n",
    "accessions = accessions[:N]"
   ]
  },
  {
   "cell_type": "code",
   "execution_count": 3,
   "id": "tribal-drive",
   "metadata": {
    "ExecuteTime": {
     "end_time": "2021-02-26T15:55:36.875055Z",
     "start_time": "2021-02-26T15:55:36.872691Z"
    }
   },
   "outputs": [],
   "source": [
    "def levenshtein_metric(x, y):\n",
    "    dmp = diff_match_patch()\n",
    "    diffs = dmp.diff_main(df.iloc[int(x)]['sgene_nucleotide'],\n",
    "                          df.iloc[int(y)]['sgene_nucleotide'])\n",
    "    return dmp.diff_levenshtein(diffs)"
   ]
  },
  {
   "cell_type": "code",
   "execution_count": 4,
   "id": "revolutionary-initial",
   "metadata": {},
   "outputs": [],
   "source": [
    "def worker(index):\n",
    "    if index % 10 == 0:\n",
    "        # Tarpine informacija\n",
    "        print(f\"Current index {index}\")\n",
    "\n",
    "    d = list(map(levenshtein_metric, repeat(index), list(range(index))))\n",
    "    d = np.pad(d, (0, N - len(d)))\n",
    "    return d"
   ]
  },
  {
   "cell_type": "code",
   "execution_count": 5,
   "id": "engaged-communist",
   "metadata": {},
   "outputs": [
    {
     "name": "stdout",
     "output_type": "stream",
     "text": [
      "Calculating distances. Using 8 CPUs\n",
      "Current index 0\n",
      "Current index 10\n",
      "Current index 20\n",
      "Current index 30\n",
      "Current index 40\n",
      "Current index 50\n",
      "Current index 60\n",
      "Current index 70\n",
      "Current index 80\n",
      "Current index 90\n"
     ]
    }
   ],
   "source": [
    "nproc = multiprocessing.cpu_count()\n",
    "# nproc = 4\n",
    "print(f\"Calculating distances. Using {nproc} CPUs\")\n",
    "\n",
    "with ProcessPoolExecutor(nproc) as pool:\n",
    "    results = list(pool.map(worker, M))\n",
    "    distances = np.stack(results)\n",
    "distances += distances.T\n",
    "\n",
    "df_dist = pd.DataFrame(distances, columns=accessions, index=accessions)\n",
    "df_dist.to_csv(\"distances_lev.csv\", index=False)"
   ]
  }
 ],
 "metadata": {
  "kernelspec": {
   "display_name": "Python 3",
   "language": "python",
   "name": "python3"
  },
  "language_info": {
   "codemirror_mode": {
    "name": "ipython",
    "version": 3
   },
   "file_extension": ".py",
   "mimetype": "text/x-python",
   "name": "python",
   "nbconvert_exporter": "python",
   "pygments_lexer": "ipython3",
   "version": "3.8.5"
  },
  "varInspector": {
   "cols": {
    "lenName": 16,
    "lenType": 16,
    "lenVar": 40
   },
   "kernels_config": {
    "python": {
     "delete_cmd_postfix": "",
     "delete_cmd_prefix": "del ",
     "library": "var_list.py",
     "varRefreshCmd": "print(var_dic_list())"
    },
    "r": {
     "delete_cmd_postfix": ") ",
     "delete_cmd_prefix": "rm(",
     "library": "var_list.r",
     "varRefreshCmd": "cat(var_dic_list()) "
    }
   },
   "types_to_exclude": [
    "module",
    "function",
    "builtin_function_or_method",
    "instance",
    "_Feature"
   ],
   "window_display": false
  }
 },
 "nbformat": 4,
 "nbformat_minor": 5
}
