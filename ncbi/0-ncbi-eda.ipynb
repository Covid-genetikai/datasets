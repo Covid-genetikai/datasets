{
 "cells": [
  {
   "cell_type": "code",
   "execution_count": 1,
   "id": "particular-friday",
   "metadata": {
    "ExecuteTime": {
     "end_time": "2021-03-26T09:53:55.857268Z",
     "start_time": "2021-03-26T09:53:55.333242Z"
    }
   },
   "outputs": [],
   "source": [
    "import time\n",
    "import pandas as pd\n",
    "import numpy as np\n",
    "import matplotlib.pyplot as plt"
   ]
  },
  {
   "cell_type": "markdown",
   "id": "superb-grocery",
   "metadata": {},
   "source": [
    "### Nevalytas NCBI datasetas. Toks koks atsisiustas"
   ]
  },
  {
   "cell_type": "code",
   "execution_count": 2,
   "id": "collective-supply",
   "metadata": {
    "ExecuteTime": {
     "end_time": "2021-03-26T09:54:06.509304Z",
     "start_time": "2021-03-26T09:53:55.866179Z"
    }
   },
   "outputs": [
    {
     "data": {
      "text/plain": [
       "(41678, 12)"
      ]
     },
     "execution_count": 2,
     "metadata": {},
     "output_type": "execute_result"
    }
   ],
   "source": [
    "df = pd.read_csv(\"ncbi_full.csv\")\n",
    "df.shape"
   ]
  },
  {
   "cell_type": "markdown",
   "id": "mysterious-mechanism",
   "metadata": {},
   "source": [
    "### Valom dataseta. Atmetam sgenus kuriuose yra netinkamos raides ['R', 'M', \"S\", \"B\", \"H\", \"N\", \"Y\", \"K\", \"W\", \"D\", \"V\"]"
   ]
  },
  {
   "cell_type": "code",
   "execution_count": 3,
   "id": "manufactured-catholic",
   "metadata": {
    "ExecuteTime": {
     "end_time": "2021-03-26T09:54:17.828200Z",
     "start_time": "2021-03-26T09:54:06.511783Z"
    }
   },
   "outputs": [
    {
     "data": {
      "text/plain": [
       "(38462, 12)"
      ]
     },
     "execution_count": 3,
     "metadata": {},
     "output_type": "execute_result"
    }
   ],
   "source": [
    "df_good = pd.read_csv(\"ncbi_good.csv\") \n",
    "df_good.shape"
   ]
  },
  {
   "cell_type": "markdown",
   "id": "specific-vietnamese",
   "metadata": {
    "ExecuteTime": {
     "end_time": "2021-03-22T13:06:17.272120Z",
     "start_time": "2021-03-22T13:06:17.268955Z"
    }
   },
   "source": [
    "### Sgenai kuriuose yra netinkamos raides"
   ]
  },
  {
   "cell_type": "code",
   "execution_count": 4,
   "id": "continuing-collection",
   "metadata": {
    "ExecuteTime": {
     "end_time": "2021-03-26T09:54:18.643994Z",
     "start_time": "2021-03-26T09:54:17.829921Z"
    }
   },
   "outputs": [
    {
     "name": "stderr",
     "output_type": "stream",
     "text": [
      "<ipython-input-4-93f1acd6a130>:4: SettingWithCopyWarning: \n",
      "A value is trying to be set on a copy of a slice from a DataFrame.\n",
      "Try using .loc[row_indexer,col_indexer] = value instead\n",
      "\n",
      "See the caveats in the documentation: https://pandas.pydata.org/pandas-docs/stable/user_guide/indexing.html#returning-a-view-versus-a-copy\n",
      "  df_bad[letter] = df_bad['sgene_nucleotide'].str.count(letter)\n"
     ]
    }
   ],
   "source": [
    "letters = ['R', 'M', \"S\", \"B\", \"H\", \"N\", \"Y\", \"K\", \"W\", \"D\", \"V\"]\n",
    "df_bad = df[df['sgene_nucleotide'].str.contains(\"|\".join(letters))]\n",
    "for letter in letters:\n",
    "    df_bad[letter] = df_bad['sgene_nucleotide'].str.count(letter)"
   ]
  },
  {
   "cell_type": "code",
   "execution_count": 5,
   "id": "occasional-roman",
   "metadata": {
    "ExecuteTime": {
     "end_time": "2021-03-26T09:54:18.677181Z",
     "start_time": "2021-03-26T09:54:18.646745Z"
    }
   },
   "outputs": [
    {
     "name": "stdout",
     "output_type": "stream",
     "text": [
      "R 264\n",
      "M 115\n",
      "S 67\n",
      "B 2\n",
      "H 3\n",
      "N 2512\n",
      "Y 453\n",
      "K 214\n",
      "W 93\n",
      "D 3\n",
      "V 25\n"
     ]
    }
   ],
   "source": [
    "bars = {}\n",
    "for letter in letters:\n",
    "    c = df_bad[df_bad[letter]>0][letter].count()\n",
    "    print(f'{letter} {c}')\n",
    "    bars[letter]=c"
   ]
  },
  {
   "cell_type": "code",
   "execution_count": 6,
   "id": "noted-armenia",
   "metadata": {
    "ExecuteTime": {
     "end_time": "2021-03-26T09:54:19.232496Z",
     "start_time": "2021-03-26T09:54:18.680993Z"
    }
   },
   "outputs": [
    {
     "data": {
      "image/png": "[encoded data removed]",
      "text/plain": [
       "<Figure size 1440x720 with 1 Axes>"
      ]
     },
     "metadata": {
      "needs_background": "light"
     },
     "output_type": "display_data"
    }
   ],
   "source": [
    "plt.figure(figsize=(20,10))\n",
    "plt.bar(bars.keys(), bars.values())\n",
    "for i, v in enumerate(bars.values()):\n",
    "    plt.text(x=i-0.25 , y=v+10 , s=f\"{v}\", fontsize=20)"
   ]
  },
  {
   "cell_type": "markdown",
   "id": "faced-minister",
   "metadata": {},
   "source": [
    "### Atmetam duplikatus"
   ]
  },
  {
   "cell_type": "code",
   "execution_count": 7,
   "id": "beautiful-parallel",
   "metadata": {
    "ExecuteTime": {
     "end_time": "2021-03-26T09:54:19.464086Z",
     "start_time": "2021-03-26T09:54:19.234787Z"
    }
   },
   "outputs": [
    {
     "data": {
      "text/plain": [
       "(4384, 4)"
      ]
     },
     "execution_count": 7,
     "metadata": {},
     "output_type": "execute_result"
    }
   ],
   "source": [
    "df_good_unique = pd.read_csv(\"ncbi_sgene_good_unique.csv\")\n",
    "df_good_unique.shape"
   ]
  },
  {
   "cell_type": "markdown",
   "id": "assured-abuse",
   "metadata": {},
   "source": [
    "### Duplikatu daznis. Kiek kokie sgenai kartojasi ir kokie sgenai dominuoja datasete"
   ]
  },
  {
   "cell_type": "code",
   "execution_count": 8,
   "id": "subjective-wiring",
   "metadata": {
    "ExecuteTime": {
     "end_time": "2021-03-26T09:54:19.482453Z",
     "start_time": "2021-03-26T09:54:19.466375Z"
    }
   },
   "outputs": [
    {
     "data": {
      "text/html": [
       "<div>\n",
       "<style scoped>\n",
       "    .dataframe tbody tr th:only-of-type {\n",
       "        vertical-align: middle;\n",
       "    }\n",
       "\n",
       "    .dataframe tbody tr th {\n",
       "        vertical-align: top;\n",
       "    }\n",
       "\n",
       "    .dataframe thead th {\n",
       "        text-align: right;\n",
       "    }\n",
       "</style>\n",
       "<table border=\"1\" class=\"dataframe\">\n",
       "  <thead>\n",
       "    <tr style=\"text-align: right;\">\n",
       "      <th></th>\n",
       "      <th>sgene_nucleotide</th>\n",
       "      <th>accessions</th>\n",
       "      <th>accessions_count</th>\n",
       "      <th>accession</th>\n",
       "    </tr>\n",
       "  </thead>\n",
       "  <tbody>\n",
       "    <tr>\n",
       "      <th>1040</th>\n",
       "      <td>ATGTTTGTTTTTCTTGTTTTATTGCCACTAGTCTCTAGTCAGTGTG...</td>\n",
       "      <td>MN908947.3|NC_045512.2|MN985325.1|MN975262.1|M...</td>\n",
       "      <td>2246</td>\n",
       "      <td>2246_6593532f926e48cc68421ef20a33018c</td>\n",
       "    </tr>\n",
       "  </tbody>\n",
       "</table>\n",
       "</div>"
      ],
      "text/plain": [
       "                                       sgene_nucleotide  \\\n",
       "1040  ATGTTTGTTTTTCTTGTTTTATTGCCACTAGTCTCTAGTCAGTGTG...   \n",
       "\n",
       "                                             accessions  accessions_count  \\\n",
       "1040  MN908947.3|NC_045512.2|MN985325.1|MN975262.1|M...              2246   \n",
       "\n",
       "                                  accession  \n",
       "1040  2246_6593532f926e48cc68421ef20a33018c  "
      ]
     },
     "execution_count": 8,
     "metadata": {},
     "output_type": "execute_result"
    }
   ],
   "source": [
    "# Reference seka\n",
    "df_good_unique[df_good_unique['accessions'].str.contains(\"NC_045512.2\")]"
   ]
  },
  {
   "cell_type": "code",
   "execution_count": 9,
   "id": "dependent-wheel",
   "metadata": {
    "ExecuteTime": {
     "end_time": "2021-03-26T09:54:19.510728Z",
     "start_time": "2021-03-26T09:54:19.485377Z"
    }
   },
   "outputs": [
    {
     "data": {
      "text/html": [
       "<div>\n",
       "<style scoped>\n",
       "    .dataframe tbody tr th:only-of-type {\n",
       "        vertical-align: middle;\n",
       "    }\n",
       "\n",
       "    .dataframe tbody tr th {\n",
       "        vertical-align: top;\n",
       "    }\n",
       "\n",
       "    .dataframe thead th {\n",
       "        text-align: right;\n",
       "    }\n",
       "</style>\n",
       "<table border=\"1\" class=\"dataframe\">\n",
       "  <thead>\n",
       "    <tr style=\"text-align: right;\">\n",
       "      <th></th>\n",
       "      <th>sgene_nucleotide</th>\n",
       "      <th>accessions</th>\n",
       "      <th>accessions_count</th>\n",
       "      <th>accession</th>\n",
       "    </tr>\n",
       "  </thead>\n",
       "  <tbody>\n",
       "    <tr>\n",
       "      <th>1463</th>\n",
       "      <td>ATGTTTGTTTTTCTTGTTTTATTGCCACTAGTCTCTAGTCAGTGTG...</td>\n",
       "      <td>MT192765.1|MT246490.1|MT246487.1|MT246484.1|MT...</td>\n",
       "      <td>14235</td>\n",
       "      <td>14235_f80cc4d05210a1a15c01a68e9a321ffa</td>\n",
       "    </tr>\n",
       "  </tbody>\n",
       "</table>\n",
       "</div>"
      ],
      "text/plain": [
       "                                       sgene_nucleotide  \\\n",
       "1463  ATGTTTGTTTTTCTTGTTTTATTGCCACTAGTCTCTAGTCAGTGTG...   \n",
       "\n",
       "                                             accessions  accessions_count  \\\n",
       "1463  MT192765.1|MT246490.1|MT246487.1|MT246484.1|MT...             14235   \n",
       "\n",
       "                                   accession  \n",
       "1463  14235_f80cc4d05210a1a15c01a68e9a321ffa  "
      ]
     },
     "execution_count": 9,
     "metadata": {},
     "output_type": "execute_result"
    }
   ],
   "source": [
    "# Daugiausiai duplikatu turintis sgenas\n",
    "df_good_unique[df_good_unique['accessions_count']==14235]"
   ]
  },
  {
   "cell_type": "code",
   "execution_count": 10,
   "id": "confident-timber",
   "metadata": {
    "ExecuteTime": {
     "end_time": "2021-03-26T09:54:19.522345Z",
     "start_time": "2021-03-26T09:54:19.513203Z"
    }
   },
   "outputs": [],
   "source": [
    "duplicate_occurrences = df_good_unique.groupby(['accessions_count']).size()"
   ]
  },
  {
   "cell_type": "code",
   "execution_count": 11,
   "id": "reliable-flexibility",
   "metadata": {
    "ExecuteTime": {
     "end_time": "2021-03-26T09:54:19.540662Z",
     "start_time": "2021-03-26T09:54:19.524883Z"
    }
   },
   "outputs": [
    {
     "data": {
      "text/plain": [
       "accessions_count\n",
       "1        2890\n",
       "2         568\n",
       "3         243\n",
       "4         133\n",
       "5          84\n",
       "         ... \n",
       "316         1\n",
       "1033        1\n",
       "2246        1\n",
       "5407        1\n",
       "14235       1\n",
       "Length: 78, dtype: int64"
      ]
     },
     "execution_count": 11,
     "metadata": {},
     "output_type": "execute_result"
    }
   ],
   "source": [
    "duplicate_occurrences"
   ]
  },
  {
   "cell_type": "code",
   "execution_count": 12,
   "id": "textile-planner",
   "metadata": {
    "ExecuteTime": {
     "end_time": "2021-03-26T09:54:19.551198Z",
     "start_time": "2021-03-26T09:54:19.545189Z"
    }
   },
   "outputs": [],
   "source": [
    "# yra 2890 sgenai, kurie nesikartoja ir yra unikalus\n",
    "# yra 568 sgenai, kurie kartojasi po 2 kartus\n",
    "# yra 84 sgenai, kurie kartojasi po 5 kartus\n",
    "# yra 1 sgenas kuris kartojasi 14235 kartus"
   ]
  },
  {
   "cell_type": "code",
   "execution_count": 13,
   "id": "postal-parking",
   "metadata": {
    "ExecuteTime": {
     "end_time": "2021-03-26T09:54:19.564991Z",
     "start_time": "2021-03-26T09:54:19.554515Z"
    }
   },
   "outputs": [],
   "source": [
    "dx = duplicate_occurrences.index\n",
    "\n",
    "x = list(map(str, dx))\n",
    "y = duplicate_occurrences.tolist()"
   ]
  },
  {
   "cell_type": "code",
   "execution_count": 14,
   "id": "beginning-sandwich",
   "metadata": {
    "ExecuteTime": {
     "end_time": "2021-03-26T09:54:20.399053Z",
     "start_time": "2021-03-26T09:54:19.568634Z"
    }
   },
   "outputs": [
    {
     "data": {
      "image/png": "[encoded data removed]",
      "text/plain": [
       "<Figure size 1440x720 with 1 Axes>"
      ]
     },
     "metadata": {
      "needs_background": "light"
     },
     "output_type": "display_data"
    }
   ],
   "source": [
    "plt.figure(figsize=(20,10))\n",
    "plt.bar(x, y)   \n",
    "plt.xlabel(\"kiek sgenu kartojasi tiek kartu\")\n",
    "plt.ylabel(\"pasikartojimu skaicius\")\n",
    "plt.show()"
   ]
  },
  {
   "cell_type": "markdown",
   "id": "sealed-football",
   "metadata": {},
   "source": [
    "### Kaupiamoji suma. Sgenu duplikatu dominavimas datasete\n",
    "staigi uodega i virsu rodo, kad yra keletas sgenu kurie turi labai daug duplikatu\n",
    "trumpa X asis ir lygi horizontali lija (ascii menas apacioj) butu idealu, tai rodytu, kad mazai sgenu turi duplikatus.\n",
    "\n",
    "```\n",
    "--------------\n",
    "|\n",
    "|\n",
    "|\n",
    "1 2 3 4 ... 10 \n",
    "```"
   ]
  },
  {
   "cell_type": "code",
   "execution_count": 15,
   "id": "waiting-singing",
   "metadata": {
    "ExecuteTime": {
     "end_time": "2021-03-26T09:54:21.075201Z",
     "start_time": "2021-03-26T09:54:20.400800Z"
    }
   },
   "outputs": [
    {
     "data": {
      "image/png": "[encoded data removed]",
      "text/plain": [
       "<Figure size 1440x720 with 1 Axes>"
      ]
     },
     "metadata": {
      "needs_background": "light"
     },
     "output_type": "display_data"
    }
   ],
   "source": [
    "cy = [] \n",
    "for _x, _y in zip(dx, y):\n",
    "    prev = cy[-1] if cy else 0\n",
    "    cy.append(prev + _y*_x)\n",
    "    \n",
    "plt.figure(figsize=(20,10))    \n",
    "plt.xlabel(\"Pasikartojimu skaicius\")\n",
    "plt.ylabel(\"Dataseto dydis\")\n",
    "plt.plot(x, cy)\n",
    "plt.show()"
   ]
  },
  {
   "cell_type": "markdown",
   "id": "above-nigeria",
   "metadata": {},
   "source": [
    "# pandas profiling"
   ]
  },
  {
   "cell_type": "code",
   "execution_count": 16,
   "id": "bound-population",
   "metadata": {
    "ExecuteTime": {
     "end_time": "2021-03-26T09:54:22.408548Z",
     "start_time": "2021-03-26T09:54:21.077043Z"
    }
   },
   "outputs": [],
   "source": [
    "from pandas_profiling import ProfileReport"
   ]
  },
  {
   "cell_type": "code",
   "execution_count": 20,
   "id": "graphic-andrews",
   "metadata": {
    "ExecuteTime": {
     "end_time": "2021-03-26T09:55:45.475560Z",
     "start_time": "2021-03-26T09:55:45.438697Z"
    }
   },
   "outputs": [
    {
     "data": {
      "text/html": [
       "<div>\n",
       "<style scoped>\n",
       "    .dataframe tbody tr th:only-of-type {\n",
       "        vertical-align: middle;\n",
       "    }\n",
       "\n",
       "    .dataframe tbody tr th {\n",
       "        vertical-align: top;\n",
       "    }\n",
       "\n",
       "    .dataframe thead th {\n",
       "        text-align: right;\n",
       "    }\n",
       "</style>\n",
       "<table border=\"1\" class=\"dataframe\">\n",
       "  <thead>\n",
       "    <tr style=\"text-align: right;\">\n",
       "      <th></th>\n",
       "      <th>accession</th>\n",
       "      <th>protein_accession</th>\n",
       "      <th>collection_date</th>\n",
       "      <th>sgene_begin</th>\n",
       "      <th>sgene_end</th>\n",
       "      <th>location</th>\n",
       "      <th>region</th>\n",
       "      <th>genome</th>\n",
       "      <th>genome_desc</th>\n",
       "      <th>sgene_protein</th>\n",
       "      <th>sgene_protein_desc</th>\n",
       "      <th>sgene_nucleotide</th>\n",
       "    </tr>\n",
       "  </thead>\n",
       "  <tbody>\n",
       "    <tr>\n",
       "      <th>0</th>\n",
       "      <td>MN908947.3</td>\n",
       "      <td>QHD43416.1</td>\n",
       "      <td>2019-12</td>\n",
       "      <td>21563</td>\n",
       "      <td>25384</td>\n",
       "      <td>China</td>\n",
       "      <td>Asia</td>\n",
       "      <td>ATTAAAGGTTTATACCTTCCCAGGTAACAAACCAACCAACTTTCGA...</td>\n",
       "      <td>Severe acute respiratory syndrome coronavirus ...</td>\n",
       "      <td>MFVFLVLLPLVSSQCVNLTTRTQLPPAYTNSFTRGVYYPDKVFRSS...</td>\n",
       "      <td>1-1273 surface glycoprotein [organism=Severe a...</td>\n",
       "      <td>ATGTTTGTTTTTCTTGTTTTATTGCCACTAGTCTCTAGTCAGTGTG...</td>\n",
       "    </tr>\n",
       "    <tr>\n",
       "      <th>1</th>\n",
       "      <td>NC_045512.2</td>\n",
       "      <td>YP_009724390.1</td>\n",
       "      <td>2019-12</td>\n",
       "      <td>21563</td>\n",
       "      <td>25384</td>\n",
       "      <td>China</td>\n",
       "      <td>Asia</td>\n",
       "      <td>ATTAAAGGTTTATACCTTCCCAGGTAACAAACCAACCAACTTTCGA...</td>\n",
       "      <td>Severe acute respiratory syndrome coronavirus ...</td>\n",
       "      <td>MFVFLVLLPLVSSQCVNLTTRTQLPPAYTNSFTRGVYYPDKVFRSS...</td>\n",
       "      <td>1-1273 surface glycoprotein [organism=Severe a...</td>\n",
       "      <td>ATGTTTGTTTTTCTTGTTTTATTGCCACTAGTCTCTAGTCAGTGTG...</td>\n",
       "    </tr>\n",
       "    <tr>\n",
       "      <th>2</th>\n",
       "      <td>MN985325.1</td>\n",
       "      <td>QHO60594.1</td>\n",
       "      <td>2020-01-19</td>\n",
       "      <td>21563</td>\n",
       "      <td>25384</td>\n",
       "      <td>USA</td>\n",
       "      <td>North America</td>\n",
       "      <td>ATTAAAGGTTTATACCTTCCCAGGTAACAAACCAACCAACTTTCGA...</td>\n",
       "      <td>Severe acute respiratory syndrome coronavirus ...</td>\n",
       "      <td>MFVFLVLLPLVSSQCVNLTTRTQLPPAYTNSFTRGVYYPDKVFRSS...</td>\n",
       "      <td>1-1273 surface glycoprotein [organism=Severe a...</td>\n",
       "      <td>ATGTTTGTTTTTCTTGTTTTATTGCCACTAGTCTCTAGTCAGTGTG...</td>\n",
       "    </tr>\n",
       "    <tr>\n",
       "      <th>3</th>\n",
       "      <td>MN975262.1</td>\n",
       "      <td>QHN73810.1</td>\n",
       "      <td>2020-01-11</td>\n",
       "      <td>21563</td>\n",
       "      <td>25384</td>\n",
       "      <td>China</td>\n",
       "      <td>Asia</td>\n",
       "      <td>ATTAAAGGTTTATACCTTCCCAGGTAACAAACCAACCAACTTTCGA...</td>\n",
       "      <td>Severe acute respiratory syndrome coronavirus ...</td>\n",
       "      <td>MFVFLVLLPLVSSQCVNLTTRTQLPPAYTNSFTRGVYYPDKVFRSS...</td>\n",
       "      <td>1-1273 surface glycoprotein [organism=Severe a...</td>\n",
       "      <td>ATGTTTGTTTTTCTTGTTTTATTGCCACTAGTCTCTAGTCAGTGTG...</td>\n",
       "    </tr>\n",
       "    <tr>\n",
       "      <th>4</th>\n",
       "      <td>MN938384.1</td>\n",
       "      <td>QHN73795.1</td>\n",
       "      <td>2020-01-10</td>\n",
       "      <td>21531</td>\n",
       "      <td>25352</td>\n",
       "      <td>China: Shenzhen</td>\n",
       "      <td>Asia</td>\n",
       "      <td>CAACCAACTTTCGATCTCTTGTAGATCTGTTCTCTAAACGAACTTT...</td>\n",
       "      <td>Severe acute respiratory syndrome coronavirus ...</td>\n",
       "      <td>MFVFLVLLPLVSSQCVNLTTRTQLPPAYTNSFTRGVYYPDKVFRSS...</td>\n",
       "      <td>1-1273 surface glycoprotein [organism=Severe a...</td>\n",
       "      <td>ATGTTTGTTTTTCTTGTTTTATTGCCACTAGTCTCTAGTCAGTGTG...</td>\n",
       "    </tr>\n",
       "  </tbody>\n",
       "</table>\n",
       "</div>"
      ],
      "text/plain": [
       "     accession protein_accession collection_date  sgene_begin  sgene_end  \\\n",
       "0   MN908947.3        QHD43416.1         2019-12        21563      25384   \n",
       "1  NC_045512.2    YP_009724390.1         2019-12        21563      25384   \n",
       "2   MN985325.1        QHO60594.1      2020-01-19        21563      25384   \n",
       "3   MN975262.1        QHN73810.1      2020-01-11        21563      25384   \n",
       "4   MN938384.1        QHN73795.1      2020-01-10        21531      25352   \n",
       "\n",
       "          location         region  \\\n",
       "0            China           Asia   \n",
       "1            China           Asia   \n",
       "2              USA  North America   \n",
       "3            China           Asia   \n",
       "4  China: Shenzhen           Asia   \n",
       "\n",
       "                                              genome  \\\n",
       "0  ATTAAAGGTTTATACCTTCCCAGGTAACAAACCAACCAACTTTCGA...   \n",
       "1  ATTAAAGGTTTATACCTTCCCAGGTAACAAACCAACCAACTTTCGA...   \n",
       "2  ATTAAAGGTTTATACCTTCCCAGGTAACAAACCAACCAACTTTCGA...   \n",
       "3  ATTAAAGGTTTATACCTTCCCAGGTAACAAACCAACCAACTTTCGA...   \n",
       "4  CAACCAACTTTCGATCTCTTGTAGATCTGTTCTCTAAACGAACTTT...   \n",
       "\n",
       "                                         genome_desc  \\\n",
       "0  Severe acute respiratory syndrome coronavirus ...   \n",
       "1  Severe acute respiratory syndrome coronavirus ...   \n",
       "2  Severe acute respiratory syndrome coronavirus ...   \n",
       "3  Severe acute respiratory syndrome coronavirus ...   \n",
       "4  Severe acute respiratory syndrome coronavirus ...   \n",
       "\n",
       "                                       sgene_protein  \\\n",
       "0  MFVFLVLLPLVSSQCVNLTTRTQLPPAYTNSFTRGVYYPDKVFRSS...   \n",
       "1  MFVFLVLLPLVSSQCVNLTTRTQLPPAYTNSFTRGVYYPDKVFRSS...   \n",
       "2  MFVFLVLLPLVSSQCVNLTTRTQLPPAYTNSFTRGVYYPDKVFRSS...   \n",
       "3  MFVFLVLLPLVSSQCVNLTTRTQLPPAYTNSFTRGVYYPDKVFRSS...   \n",
       "4  MFVFLVLLPLVSSQCVNLTTRTQLPPAYTNSFTRGVYYPDKVFRSS...   \n",
       "\n",
       "                                  sgene_protein_desc  \\\n",
       "0  1-1273 surface glycoprotein [organism=Severe a...   \n",
       "1  1-1273 surface glycoprotein [organism=Severe a...   \n",
       "2  1-1273 surface glycoprotein [organism=Severe a...   \n",
       "3  1-1273 surface glycoprotein [organism=Severe a...   \n",
       "4  1-1273 surface glycoprotein [organism=Severe a...   \n",
       "\n",
       "                                    sgene_nucleotide  \n",
       "0  ATGTTTGTTTTTCTTGTTTTATTGCCACTAGTCTCTAGTCAGTGTG...  \n",
       "1  ATGTTTGTTTTTCTTGTTTTATTGCCACTAGTCTCTAGTCAGTGTG...  \n",
       "2  ATGTTTGTTTTTCTTGTTTTATTGCCACTAGTCTCTAGTCAGTGTG...  \n",
       "3  ATGTTTGTTTTTCTTGTTTTATTGCCACTAGTCTCTAGTCAGTGTG...  \n",
       "4  ATGTTTGTTTTTCTTGTTTTATTGCCACTAGTCTCTAGTCAGTGTG...  "
      ]
     },
     "execution_count": 20,
     "metadata": {},
     "output_type": "execute_result"
    }
   ],
   "source": [
    "df.head()"
   ]
  },
  {
   "cell_type": "code",
   "execution_count": 29,
   "id": "dirty-maple",
   "metadata": {
    "ExecuteTime": {
     "end_time": "2021-03-26T10:10:47.252074Z",
     "start_time": "2021-03-26T10:10:47.230757Z"
    }
   },
   "outputs": [
    {
     "data": {
      "text/plain": [
       "(41678, 12)"
      ]
     },
     "execution_count": 29,
     "metadata": {},
     "output_type": "execute_result"
    }
   ],
   "source": [
    "df_profiling = df[['accession', 'collection_date', 'location', 'region', 'sgene_nucleotide']].copy()\n",
    "df.shape"
   ]
  },
  {
   "cell_type": "code",
   "execution_count": 30,
   "id": "spiritual-collapse",
   "metadata": {
    "ExecuteTime": {
     "end_time": "2021-03-26T10:10:49.080834Z",
     "start_time": "2021-03-26T10:10:49.057051Z"
    }
   },
   "outputs": [
    {
     "data": {
      "text/html": [
       "<div>\n",
       "<style scoped>\n",
       "    .dataframe tbody tr th:only-of-type {\n",
       "        vertical-align: middle;\n",
       "    }\n",
       "\n",
       "    .dataframe tbody tr th {\n",
       "        vertical-align: top;\n",
       "    }\n",
       "\n",
       "    .dataframe thead th {\n",
       "        text-align: right;\n",
       "    }\n",
       "</style>\n",
       "<table border=\"1\" class=\"dataframe\">\n",
       "  <thead>\n",
       "    <tr style=\"text-align: right;\">\n",
       "      <th></th>\n",
       "      <th>accession</th>\n",
       "      <th>collection_date</th>\n",
       "      <th>location</th>\n",
       "      <th>region</th>\n",
       "      <th>sgene_nucleotide</th>\n",
       "    </tr>\n",
       "  </thead>\n",
       "  <tbody>\n",
       "    <tr>\n",
       "      <th>0</th>\n",
       "      <td>MN908947.3</td>\n",
       "      <td>2019-12</td>\n",
       "      <td>China</td>\n",
       "      <td>Asia</td>\n",
       "      <td>ATGTTTGTTTTTCTTGTTTTATTGCCACTAGTCTCTAGTCAGTGTG...</td>\n",
       "    </tr>\n",
       "    <tr>\n",
       "      <th>1</th>\n",
       "      <td>NC_045512.2</td>\n",
       "      <td>2019-12</td>\n",
       "      <td>China</td>\n",
       "      <td>Asia</td>\n",
       "      <td>ATGTTTGTTTTTCTTGTTTTATTGCCACTAGTCTCTAGTCAGTGTG...</td>\n",
       "    </tr>\n",
       "    <tr>\n",
       "      <th>2</th>\n",
       "      <td>MN985325.1</td>\n",
       "      <td>2020-01-19</td>\n",
       "      <td>USA</td>\n",
       "      <td>North America</td>\n",
       "      <td>ATGTTTGTTTTTCTTGTTTTATTGCCACTAGTCTCTAGTCAGTGTG...</td>\n",
       "    </tr>\n",
       "    <tr>\n",
       "      <th>3</th>\n",
       "      <td>MN975262.1</td>\n",
       "      <td>2020-01-11</td>\n",
       "      <td>China</td>\n",
       "      <td>Asia</td>\n",
       "      <td>ATGTTTGTTTTTCTTGTTTTATTGCCACTAGTCTCTAGTCAGTGTG...</td>\n",
       "    </tr>\n",
       "    <tr>\n",
       "      <th>4</th>\n",
       "      <td>MN938384.1</td>\n",
       "      <td>2020-01-10</td>\n",
       "      <td>China: Shenzhen</td>\n",
       "      <td>Asia</td>\n",
       "      <td>ATGTTTGTTTTTCTTGTTTTATTGCCACTAGTCTCTAGTCAGTGTG...</td>\n",
       "    </tr>\n",
       "  </tbody>\n",
       "</table>\n",
       "</div>"
      ],
      "text/plain": [
       "     accession collection_date         location         region  \\\n",
       "0   MN908947.3         2019-12            China           Asia   \n",
       "1  NC_045512.2         2019-12            China           Asia   \n",
       "2   MN985325.1      2020-01-19              USA  North America   \n",
       "3   MN975262.1      2020-01-11            China           Asia   \n",
       "4   MN938384.1      2020-01-10  China: Shenzhen           Asia   \n",
       "\n",
       "                                    sgene_nucleotide  \n",
       "0  ATGTTTGTTTTTCTTGTTTTATTGCCACTAGTCTCTAGTCAGTGTG...  \n",
       "1  ATGTTTGTTTTTCTTGTTTTATTGCCACTAGTCTCTAGTCAGTGTG...  \n",
       "2  ATGTTTGTTTTTCTTGTTTTATTGCCACTAGTCTCTAGTCAGTGTG...  \n",
       "3  ATGTTTGTTTTTCTTGTTTTATTGCCACTAGTCTCTAGTCAGTGTG...  \n",
       "4  ATGTTTGTTTTTCTTGTTTTATTGCCACTAGTCTCTAGTCAGTGTG...  "
      ]
     },
     "execution_count": 30,
     "metadata": {},
     "output_type": "execute_result"
    }
   ],
   "source": [
    "df_profiling.head()"
   ]
  },
  {
   "cell_type": "code",
   "execution_count": 31,
   "id": "martial-welding",
   "metadata": {
    "ExecuteTime": {
     "end_time": "2021-03-26T10:10:50.892097Z",
     "start_time": "2021-03-26T10:10:50.826987Z"
    }
   },
   "outputs": [],
   "source": [
    "profile = ProfileReport(df_profiling, title=\"Pandas Profiling Report\")"
   ]
  },
  {
   "cell_type": "code",
   "execution_count": 18,
   "id": "julian-activation",
   "metadata": {
    "ExecuteTime": {
     "end_time": "2021-03-26T09:54:22.538325Z",
     "start_time": "2021-03-26T09:54:22.533975Z"
    }
   },
   "outputs": [],
   "source": [
    "#profile.to_notebook_iframe()"
   ]
  },
  {
   "cell_type": "code",
   "execution_count": 32,
   "id": "surprised-slovak",
   "metadata": {
    "ExecuteTime": {
     "end_time": "2021-03-26T10:11:06.790415Z",
     "start_time": "2021-03-26T10:10:55.917391Z"
    }
   },
   "outputs": [
    {
     "data": {
      "application/vnd.jupyter.widget-view+json": {
       "model_id": "b99cc59374d74707a45d11abd67f0aea",
       "version_major": 2,
       "version_minor": 0
      },
      "text/plain": [
       "Summarize dataset:   0%|          | 0/18 [00:00<?, ?it/s]"
      ]
     },
     "metadata": {},
     "output_type": "display_data"
    },
    {
     "data": {
      "application/vnd.jupyter.widget-view+json": {
       "model_id": "e8b4d07d3211407bbae82736263b08e2",
       "version_major": 2,
       "version_minor": 0
      },
      "text/plain": [
       "Generate report structure:   0%|          | 0/1 [00:00<?, ?it/s]"
      ]
     },
     "metadata": {},
     "output_type": "display_data"
    },
    {
     "data": {
      "application/vnd.jupyter.widget-view+json": {
       "model_id": "b5f883fe794541eea017fa871e357249",
       "version_major": 2,
       "version_minor": 0
      },
      "text/plain": [
       "Render HTML:   0%|          | 0/1 [00:00<?, ?it/s]"
      ]
     },
     "metadata": {},
     "output_type": "display_data"
    },
    {
     "data": {
      "application/vnd.jupyter.widget-view+json": {
       "model_id": "dd133ac68b45471f96a2b5323ac7bd4d",
       "version_major": 2,
       "version_minor": 0
      },
      "text/plain": [
       "Export report to file:   0%|          | 0/1 [00:00<?, ?it/s]"
      ]
     },
     "metadata": {},
     "output_type": "display_data"
    }
   ],
   "source": [
    "profile.to_file(\"pandas_profiling.html\")"
   ]
  },
  {
   "cell_type": "markdown",
   "id": "involved-organizer",
   "metadata": {},
   "source": [
    "### Kuriose sgeno vietose vyksta mutacijos"
   ]
  },
  {
   "cell_type": "code",
   "execution_count": 33,
   "id": "flexible-exchange",
   "metadata": {
    "ExecuteTime": {
     "end_time": "2021-03-26T15:01:27.897766Z",
     "start_time": "2021-03-26T15:01:27.892240Z"
    }
   },
   "outputs": [],
   "source": [
    "import seaborn as sns"
   ]
  },
  {
   "cell_type": "code",
   "execution_count": 41,
   "id": "competent-logan",
   "metadata": {
    "ExecuteTime": {
     "end_time": "2021-03-26T15:15:21.359413Z",
     "start_time": "2021-03-26T15:15:17.599485Z"
    }
   },
   "outputs": [],
   "source": [
    "sgene = df_good_unique['sgene_nucleotide'].str.split('',expand=True)"
   ]
  },
  {
   "cell_type": "code",
   "execution_count": 42,
   "id": "possible-liberia",
   "metadata": {
    "ExecuteTime": {
     "end_time": "2021-03-26T15:15:24.998741Z",
     "start_time": "2021-03-26T15:15:24.960264Z"
    }
   },
   "outputs": [
    {
     "data": {
      "text/html": [
       "<div>\n",
       "<style scoped>\n",
       "    .dataframe tbody tr th:only-of-type {\n",
       "        vertical-align: middle;\n",
       "    }\n",
       "\n",
       "    .dataframe tbody tr th {\n",
       "        vertical-align: top;\n",
       "    }\n",
       "\n",
       "    .dataframe thead th {\n",
       "        text-align: right;\n",
       "    }\n",
       "</style>\n",
       "<table border=\"1\" class=\"dataframe\">\n",
       "  <thead>\n",
       "    <tr style=\"text-align: right;\">\n",
       "      <th></th>\n",
       "      <th>0</th>\n",
       "      <th>1</th>\n",
       "      <th>2</th>\n",
       "      <th>3</th>\n",
       "      <th>4</th>\n",
       "      <th>5</th>\n",
       "      <th>6</th>\n",
       "      <th>7</th>\n",
       "      <th>8</th>\n",
       "      <th>9</th>\n",
       "      <th>...</th>\n",
       "      <th>3841</th>\n",
       "      <th>3842</th>\n",
       "      <th>3843</th>\n",
       "      <th>3844</th>\n",
       "      <th>3845</th>\n",
       "      <th>3846</th>\n",
       "      <th>3847</th>\n",
       "      <th>3848</th>\n",
       "      <th>3849</th>\n",
       "      <th>3850</th>\n",
       "    </tr>\n",
       "  </thead>\n",
       "  <tbody>\n",
       "    <tr>\n",
       "      <th>0</th>\n",
       "      <td></td>\n",
       "      <td>A</td>\n",
       "      <td>G</td>\n",
       "      <td>T</td>\n",
       "      <td>C</td>\n",
       "      <td>T</td>\n",
       "      <td>C</td>\n",
       "      <td>T</td>\n",
       "      <td>A</td>\n",
       "      <td>G</td>\n",
       "      <td>...</td>\n",
       "      <td>None</td>\n",
       "      <td>None</td>\n",
       "      <td>None</td>\n",
       "      <td>None</td>\n",
       "      <td>None</td>\n",
       "      <td>None</td>\n",
       "      <td>None</td>\n",
       "      <td>None</td>\n",
       "      <td>None</td>\n",
       "      <td>None</td>\n",
       "    </tr>\n",
       "    <tr>\n",
       "      <th>1</th>\n",
       "      <td></td>\n",
       "      <td>A</td>\n",
       "      <td>T</td>\n",
       "      <td>G</td>\n",
       "      <td>C</td>\n",
       "      <td>T</td>\n",
       "      <td>T</td>\n",
       "      <td>G</td>\n",
       "      <td>T</td>\n",
       "      <td>T</td>\n",
       "      <td>...</td>\n",
       "      <td>None</td>\n",
       "      <td>None</td>\n",
       "      <td>None</td>\n",
       "      <td>None</td>\n",
       "      <td>None</td>\n",
       "      <td>None</td>\n",
       "      <td>None</td>\n",
       "      <td>None</td>\n",
       "      <td>None</td>\n",
       "      <td>None</td>\n",
       "    </tr>\n",
       "    <tr>\n",
       "      <th>2</th>\n",
       "      <td></td>\n",
       "      <td>A</td>\n",
       "      <td>T</td>\n",
       "      <td>G</td>\n",
       "      <td>T</td>\n",
       "      <td>A</td>\n",
       "      <td>T</td>\n",
       "      <td>G</td>\n",
       "      <td>T</td>\n",
       "      <td>T</td>\n",
       "      <td>...</td>\n",
       "      <td>None</td>\n",
       "      <td>None</td>\n",
       "      <td>None</td>\n",
       "      <td>None</td>\n",
       "      <td>None</td>\n",
       "      <td>None</td>\n",
       "      <td>None</td>\n",
       "      <td>None</td>\n",
       "      <td>None</td>\n",
       "      <td>None</td>\n",
       "    </tr>\n",
       "    <tr>\n",
       "      <th>3</th>\n",
       "      <td></td>\n",
       "      <td>A</td>\n",
       "      <td>T</td>\n",
       "      <td>G</td>\n",
       "      <td>T</td>\n",
       "      <td>T</td>\n",
       "      <td>A</td>\n",
       "      <td>G</td>\n",
       "      <td>T</td>\n",
       "      <td>T</td>\n",
       "      <td>...</td>\n",
       "      <td>None</td>\n",
       "      <td>None</td>\n",
       "      <td>None</td>\n",
       "      <td>None</td>\n",
       "      <td>None</td>\n",
       "      <td>None</td>\n",
       "      <td>None</td>\n",
       "      <td>None</td>\n",
       "      <td>None</td>\n",
       "      <td>None</td>\n",
       "    </tr>\n",
       "    <tr>\n",
       "      <th>4</th>\n",
       "      <td></td>\n",
       "      <td>A</td>\n",
       "      <td>T</td>\n",
       "      <td>G</td>\n",
       "      <td>T</td>\n",
       "      <td>T</td>\n",
       "      <td>A</td>\n",
       "      <td>G</td>\n",
       "      <td>T</td>\n",
       "      <td>T</td>\n",
       "      <td>...</td>\n",
       "      <td>None</td>\n",
       "      <td>None</td>\n",
       "      <td>None</td>\n",
       "      <td>None</td>\n",
       "      <td>None</td>\n",
       "      <td>None</td>\n",
       "      <td>None</td>\n",
       "      <td>None</td>\n",
       "      <td>None</td>\n",
       "      <td>None</td>\n",
       "    </tr>\n",
       "  </tbody>\n",
       "</table>\n",
       "<p>5 rows × 3851 columns</p>\n",
       "</div>"
      ],
      "text/plain": [
       "  0    1    2    3    4    5    6    7    8    9     ...  3841  3842  3843  \\\n",
       "0         A    G    T    C    T    C    T    A    G  ...  None  None  None   \n",
       "1         A    T    G    C    T    T    G    T    T  ...  None  None  None   \n",
       "2         A    T    G    T    A    T    G    T    T  ...  None  None  None   \n",
       "3         A    T    G    T    T    A    G    T    T  ...  None  None  None   \n",
       "4         A    T    G    T    T    A    G    T    T  ...  None  None  None   \n",
       "\n",
       "   3844  3845  3846  3847  3848  3849  3850  \n",
       "0  None  None  None  None  None  None  None  \n",
       "1  None  None  None  None  None  None  None  \n",
       "2  None  None  None  None  None  None  None  \n",
       "3  None  None  None  None  None  None  None  \n",
       "4  None  None  None  None  None  None  None  \n",
       "\n",
       "[5 rows x 3851 columns]"
      ]
     },
     "execution_count": 42,
     "metadata": {},
     "output_type": "execute_result"
    }
   ],
   "source": [
    "sgene.head()"
   ]
  },
  {
   "cell_type": "code",
   "execution_count": 64,
   "id": "modular-exhaust",
   "metadata": {
    "ExecuteTime": {
     "end_time": "2021-03-26T16:14:48.133021Z",
     "start_time": "2021-03-26T16:14:45.887906Z"
    }
   },
   "outputs": [],
   "source": [
    "y = sgene.nunique()"
   ]
  },
  {
   "cell_type": "code",
   "execution_count": 71,
   "id": "becoming-determination",
   "metadata": {
    "ExecuteTime": {
     "end_time": "2021-03-26T16:17:09.335740Z",
     "start_time": "2021-03-26T16:17:09.318973Z"
    }
   },
   "outputs": [
    {
     "data": {
      "text/plain": [
       "4    3300\n",
       "3     487\n",
       "2      32\n",
       "1      21\n",
       "5      11\n",
       "dtype: int64"
      ]
     },
     "execution_count": 71,
     "metadata": {},
     "output_type": "execute_result"
    }
   ],
   "source": [
    "y.value_counts()"
   ]
  },
  {
   "cell_type": "code",
   "execution_count": 59,
   "id": "worst-nelson",
   "metadata": {
    "ExecuteTime": {
     "end_time": "2021-03-26T16:14:05.834224Z",
     "start_time": "2021-03-26T16:14:05.612297Z"
    }
   },
   "outputs": [
    {
     "data": {
      "image/png": "[encoded data removed]",
      "text/plain": [
       "<Figure size 1440x720 with 1 Axes>"
      ]
     },
     "metadata": {
      "needs_background": "light"
     },
     "output_type": "display_data"
    }
   ],
   "source": [
    "plt.figure(figsize=(20,10))\n",
    "plt.scatter(list(range(len(y))), y, marker=',',lw=0,s=1)\n",
    "plt.show()"
   ]
  },
  {
   "cell_type": "code",
   "execution_count": 53,
   "id": "brown-madagascar",
   "metadata": {
    "ExecuteTime": {
     "end_time": "2021-03-26T16:10:59.172494Z",
     "start_time": "2021-03-26T16:10:59.162815Z"
    }
   },
   "outputs": [
    {
     "data": {
      "text/plain": [
       "0       1\n",
       "1       2\n",
       "2       3\n",
       "3       3\n",
       "4       3\n",
       "       ..\n",
       "3846    1\n",
       "3847    1\n",
       "3848    1\n",
       "3849    1\n",
       "3850    1\n",
       "Length: 3851, dtype: int64"
      ]
     },
     "execution_count": 53,
     "metadata": {},
     "output_type": "execute_result"
    }
   ],
   "source": [
    "y"
   ]
  },
  {
   "cell_type": "code",
   "execution_count": 52,
   "id": "actual-killing",
   "metadata": {
    "ExecuteTime": {
     "end_time": "2021-03-26T16:10:39.081087Z",
     "start_time": "2021-03-26T16:10:38.746781Z"
    }
   },
   "outputs": [
    {
     "data": {
      "text/plain": [
       "<matplotlib.axes._subplots.AxesSubplot at 0x7f48ab6ec9a0>"
      ]
     },
     "execution_count": 52,
     "metadata": {},
     "output_type": "execute_result"
    },
    {
     "data": {
      "image/png": "[encoded data removed]",
      "text/plain": [
       "<Figure size 1440x720 with 1 Axes>"
      ]
     },
     "metadata": {
      "needs_background": "light"
     },
     "output_type": "display_data"
    }
   ],
   "source": [
    "\n",
    "y.hist(bins=100, figsize=(20,10))"
   ]
  },
  {
   "cell_type": "code",
   "execution_count": 39,
   "id": "allied-dating",
   "metadata": {
    "ExecuteTime": {
     "end_time": "2021-03-26T15:13:09.631492Z",
     "start_time": "2021-03-26T15:13:00.679364Z"
    }
   },
   "outputs": [
    {
     "ename": "ValueError",
     "evalue": "could not convert string to float: ''",
     "output_type": "error",
     "traceback": [
      "\u001b[0;31m---------------------------------------------------------------------------\u001b[0m",
      "\u001b[0;31mValueError\u001b[0m                                Traceback (most recent call last)",
      "\u001b[0;32m<ipython-input-39-f672590cffcd>\u001b[0m in \u001b[0;36m<module>\u001b[0;34m\u001b[0m\n\u001b[0;32m----> 1\u001b[0;31m \u001b[0msns\u001b[0m\u001b[0;34m.\u001b[0m\u001b[0mheatmap\u001b[0m\u001b[0;34m(\u001b[0m\u001b[0msgene\u001b[0m\u001b[0;34m)\u001b[0m\u001b[0;34m\u001b[0m\u001b[0;34m\u001b[0m\u001b[0m\n\u001b[0m",
      "\u001b[0;32m~/.local/lib/python3.8/site-packages/seaborn/_decorators.py\u001b[0m in \u001b[0;36minner_f\u001b[0;34m(*args, **kwargs)\u001b[0m\n\u001b[1;32m     44\u001b[0m             )\n\u001b[1;32m     45\u001b[0m         \u001b[0mkwargs\u001b[0m\u001b[0;34m.\u001b[0m\u001b[0mupdate\u001b[0m\u001b[0;34m(\u001b[0m\u001b[0;34m{\u001b[0m\u001b[0mk\u001b[0m\u001b[0;34m:\u001b[0m \u001b[0marg\u001b[0m \u001b[0;32mfor\u001b[0m \u001b[0mk\u001b[0m\u001b[0;34m,\u001b[0m \u001b[0marg\u001b[0m \u001b[0;32min\u001b[0m \u001b[0mzip\u001b[0m\u001b[0;34m(\u001b[0m\u001b[0msig\u001b[0m\u001b[0;34m.\u001b[0m\u001b[0mparameters\u001b[0m\u001b[0;34m,\u001b[0m \u001b[0margs\u001b[0m\u001b[0;34m)\u001b[0m\u001b[0;34m}\u001b[0m\u001b[0;34m)\u001b[0m\u001b[0;34m\u001b[0m\u001b[0;34m\u001b[0m\u001b[0m\n\u001b[0;32m---> 46\u001b[0;31m         \u001b[0;32mreturn\u001b[0m \u001b[0mf\u001b[0m\u001b[0;34m(\u001b[0m\u001b[0;34m**\u001b[0m\u001b[0mkwargs\u001b[0m\u001b[0;34m)\u001b[0m\u001b[0;34m\u001b[0m\u001b[0;34m\u001b[0m\u001b[0m\n\u001b[0m\u001b[1;32m     47\u001b[0m     \u001b[0;32mreturn\u001b[0m \u001b[0minner_f\u001b[0m\u001b[0;34m\u001b[0m\u001b[0;34m\u001b[0m\u001b[0m\n\u001b[1;32m     48\u001b[0m \u001b[0;34m\u001b[0m\u001b[0m\n",
      "\u001b[0;32m~/.local/lib/python3.8/site-packages/seaborn/matrix.py\u001b[0m in \u001b[0;36mheatmap\u001b[0;34m(data, vmin, vmax, cmap, center, robust, annot, fmt, annot_kws, linewidths, linecolor, cbar, cbar_kws, cbar_ax, square, xticklabels, yticklabels, mask, ax, **kwargs)\u001b[0m\n\u001b[1;32m    533\u001b[0m     \"\"\"\n\u001b[1;32m    534\u001b[0m     \u001b[0;31m# Initialize the plotter object\u001b[0m\u001b[0;34m\u001b[0m\u001b[0;34m\u001b[0m\u001b[0;34m\u001b[0m\u001b[0m\n\u001b[0;32m--> 535\u001b[0;31m     plotter = _HeatMapper(data, vmin, vmax, cmap, center, robust, annot, fmt,\n\u001b[0m\u001b[1;32m    536\u001b[0m                           \u001b[0mannot_kws\u001b[0m\u001b[0;34m,\u001b[0m \u001b[0mcbar\u001b[0m\u001b[0;34m,\u001b[0m \u001b[0mcbar_kws\u001b[0m\u001b[0;34m,\u001b[0m \u001b[0mxticklabels\u001b[0m\u001b[0;34m,\u001b[0m\u001b[0;34m\u001b[0m\u001b[0;34m\u001b[0m\u001b[0m\n\u001b[1;32m    537\u001b[0m                           yticklabels, mask)\n",
      "\u001b[0;32m~/.local/lib/python3.8/site-packages/seaborn/matrix.py\u001b[0m in \u001b[0;36m__init__\u001b[0;34m(self, data, vmin, vmax, cmap, center, robust, annot, fmt, annot_kws, cbar, cbar_kws, xticklabels, yticklabels, mask)\u001b[0m\n\u001b[1;32m    153\u001b[0m \u001b[0;34m\u001b[0m\u001b[0m\n\u001b[1;32m    154\u001b[0m         \u001b[0;31m# Determine good default values for the colormapping\u001b[0m\u001b[0;34m\u001b[0m\u001b[0;34m\u001b[0m\u001b[0;34m\u001b[0m\u001b[0m\n\u001b[0;32m--> 155\u001b[0;31m         self._determine_cmap_params(plot_data, vmin, vmax,\n\u001b[0m\u001b[1;32m    156\u001b[0m                                     cmap, center, robust)\n\u001b[1;32m    157\u001b[0m \u001b[0;34m\u001b[0m\u001b[0m\n",
      "\u001b[0;32m~/.local/lib/python3.8/site-packages/seaborn/matrix.py\u001b[0m in \u001b[0;36m_determine_cmap_params\u001b[0;34m(self, plot_data, vmin, vmax, cmap, center, robust)\u001b[0m\n\u001b[1;32m    187\u001b[0m \u001b[0;34m\u001b[0m\u001b[0m\n\u001b[1;32m    188\u001b[0m         \u001b[0;31m# plot_data is a np.ma.array instance\u001b[0m\u001b[0;34m\u001b[0m\u001b[0;34m\u001b[0m\u001b[0;34m\u001b[0m\u001b[0m\n\u001b[0;32m--> 189\u001b[0;31m         \u001b[0mcalc_data\u001b[0m \u001b[0;34m=\u001b[0m \u001b[0mplot_data\u001b[0m\u001b[0;34m.\u001b[0m\u001b[0mastype\u001b[0m\u001b[0;34m(\u001b[0m\u001b[0mfloat\u001b[0m\u001b[0;34m)\u001b[0m\u001b[0;34m.\u001b[0m\u001b[0mfilled\u001b[0m\u001b[0;34m(\u001b[0m\u001b[0mnp\u001b[0m\u001b[0;34m.\u001b[0m\u001b[0mnan\u001b[0m\u001b[0;34m)\u001b[0m\u001b[0;34m\u001b[0m\u001b[0;34m\u001b[0m\u001b[0m\n\u001b[0m\u001b[1;32m    190\u001b[0m         \u001b[0;32mif\u001b[0m \u001b[0mvmin\u001b[0m \u001b[0;32mis\u001b[0m \u001b[0;32mNone\u001b[0m\u001b[0;34m:\u001b[0m\u001b[0;34m\u001b[0m\u001b[0;34m\u001b[0m\u001b[0m\n\u001b[1;32m    191\u001b[0m             \u001b[0;32mif\u001b[0m \u001b[0mrobust\u001b[0m\u001b[0;34m:\u001b[0m\u001b[0;34m\u001b[0m\u001b[0;34m\u001b[0m\u001b[0m\n",
      "\u001b[0;31mValueError\u001b[0m: could not convert string to float: ''"
     ]
    }
   ],
   "source": [
    "sns.heatmap(sgene)"
   ]
  }
 ],
 "metadata": {
  "kernelspec": {
   "display_name": "Python 3",
   "language": "python",
   "name": "python3"
  },
  "language_info": {
   "codemirror_mode": {
    "name": "ipython",
    "version": 3
   },
   "file_extension": ".py",
   "mimetype": "text/x-python",
   "name": "python",
   "nbconvert_exporter": "python",
   "pygments_lexer": "ipython3",
   "version": "3.8.5"
  },
  "varInspector": {
   "cols": {
    "lenName": 16,
    "lenType": 16,
    "lenVar": 40
   },
   "kernels_config": {
    "python": {
     "delete_cmd_postfix": "",
     "delete_cmd_prefix": "del ",
     "library": "var_list.py",
     "varRefreshCmd": "print(var_dic_list())"
    },
    "r": {
     "delete_cmd_postfix": ") ",
     "delete_cmd_prefix": "rm(",
     "library": "var_list.r",
     "varRefreshCmd": "cat(var_dic_list()) "
    }
   },
   "types_to_exclude": [
    "module",
    "function",
    "builtin_function_or_method",
    "instance",
    "_Feature"
   ],
   "window_display": false
  }
 },
 "nbformat": 4,
 "nbformat_minor": 5
}
