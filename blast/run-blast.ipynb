{
 "cells": [
  {
   "cell_type": "code",
   "execution_count": 4,
   "id": "pressing-legislation",
   "metadata": {
    "ExecuteTime": {
     "end_time": "2022-02-27T10:27:29.120113Z",
     "start_time": "2022-02-27T10:27:29.114732Z"
    }
   },
   "outputs": [],
   "source": [
    "from Bio.Blast.Applications import NcbiblastpCommandline"
   ]
  },
  {
   "cell_type": "code",
   "execution_count": 5,
   "id": "alive-liabilities",
   "metadata": {
    "ExecuteTime": {
     "end_time": "2022-02-27T10:27:29.365733Z",
     "start_time": "2022-02-27T10:27:29.361199Z"
    }
   },
   "outputs": [],
   "source": [
    "def extract_sequence(in_file, out_file=None):\n",
    "    title = \"\"\n",
    "    sequence = \"\"\n",
    "    with open(in_file) as in_fh:\n",
    "        \n",
    "        for line in in_fh:\n",
    "            line = line.replace(\"\\n\", \"\")\n",
    "            if line.startswith(\">\"):\n",
    "                if sequence:\n",
    "                    sequence = sequence.lower()\n",
    "                    print(title)\n",
    "                    print(sequence)\n",
    "\n",
    "                    if out_file:\n",
    "                        with open(out_file, \"w\") as out_file:\n",
    "                            out_file.write(sequence)\n",
    "                    break\n",
    "                title = line\n",
    "            else:\n",
    "                sequence += line\n",
    "                \n",
    "    return sequence"
   ]
  },
  {
   "cell_type": "code",
   "execution_count": 6,
   "id": "determined-training",
   "metadata": {
    "ExecuteTime": {
     "end_time": "2022-02-27T10:27:29.771378Z",
     "start_time": "2022-02-27T10:27:29.767312Z"
    }
   },
   "outputs": [],
   "source": [
    "def run_blast(query_file, out_file=None):\n",
    "    cline = NcbiblastpCommandline(query=query_file, \n",
    "                                  db=\"ncbi_sgene_protein_full.fasta\", \n",
    "                                  out=out_file, \n",
    "                                  lcase_masking=True,\n",
    "                                  outfmt=\"7\", # 12 JSON, 5 XML\n",
    "                                  num_threads = 1\n",
    "                                  ,max_target_seqs = 300000 # kiek outputas tures eiluciu                              \n",
    "                                )\n",
    "    return cline()\n",
    "#print(f\"!{cline}\") # atspausdina commandline pilna komanda\n"
   ]
  },
  {
   "cell_type": "code",
   "execution_count": 7,
   "id": "expired-right",
   "metadata": {
    "ExecuteTime": {
     "end_time": "2022-02-27T10:27:30.588438Z",
     "start_time": "2022-02-27T10:27:30.584939Z"
    }
   },
   "outputs": [],
   "source": [
    "def create_seq_mask(seq, mut_locs, offset=2):\n",
    "    seq_l = list(seq)\n",
    "    for mut_loc in mut_locs:\n",
    "        for i in range(mut_loc - offset, mut_loc + offset + 1):\n",
    "            seq_l[i] = seq_l[i].upper()\n",
    "\n",
    "    seq_mask = \"\".join(seq_l)\n",
    "\n",
    "    return seq_mask   "
   ]
  },
  {
   "cell_type": "code",
   "execution_count": 8,
   "id": "furnished-lightning",
   "metadata": {
    "ExecuteTime": {
     "end_time": "2022-02-27T10:27:31.367932Z",
     "start_time": "2022-02-27T10:27:31.359603Z"
    }
   },
   "outputs": [
    {
     "name": "stdout",
     "output_type": "stream",
     "text": [
      ">OMICRON\n",
      "mfvflvllplvssqcvnlttrtqlppaytnsftrgvyypdkvfrssvlhstqdlflpffsnvtwfhvisgtngtkrfdnpvlpfndgvyfasieksniirgwifgttldsktqsllivnnatnvvikvcefqfcndpfldhknnkswmesefrvyssannctfeyvsqpflmdlegkqgnfknlrefvfknidgyfkiyskhtpiiveperdlpqgfsaleplvdlpiginitrfqtllalhrsyltpgdsssgwtagaaayyvgylqprtfllkynengtitdavdcaldplsetkctlksftvekgiyqtsnfrvqptesivrfpnitnlcpfdevfnatrfasvyawnrkrisncvadysvlynlapfftfkcygvsptklndlcftnvyadsfvirgdevrqiapgqtgniadynyklpddftgcviawnsnkldskvsgnynylyrlfrksnlkpferdisteiyqagnkpcngvagfncyfplrsysfrptygvghqpyrvvvlsfellhapatvcgpkkstnlvknkcvnfnfnglkgtgvltesnkkflpfqqfgrdiadttdavrdpqtleilditpcsfggvsvitpgtntsnqvavlyqgvnctevpvaihadqltptwrvystgsnvfqtragcligaeyvnnsyecdipigagicasyqtqtkshrrarsvasqsiiaytmslgaensvaysnnsiaiptnftisvtteilpvsmtktsvdctmyicgdstecsnlllqygsfctqlkraltgiaveqdkntqevfaqvkqiyktppikyfggfnfsqilpdpskpskrsfiedllfnkvtladagfikqygdclgdiaardlicaqkfkgltvlpplltdemiaqytsallagtitsgwtfgagaalqipfamqmayrfngigvtqnvlyenqklianqfnsaigkiqdslsstasalgklqdvvnhnaqalntlvkqlsskfgaissvlndifsrldkveaevqidrlitgrlqslqtyvtqqliraaeirasanlaatkmsecvlgqskrvdfcgkgyhlmsfpqsaphgvvflhvtyvpaqeknfttapaichdgkahfpregvfvsngthwfvtqrnfyepqiittdntfvsgncdvvigivnntvydplqpeldsfkeeldkyfknhtspdvdlgdisginasvvniqkeidrlnevaknlneslidlqelgkyeqyikwpwyiwlgfiagliaivmvtimlccmtsccsclkgccscgscckfdeddsepvlkgvklhyt\n",
      ">DELTA\n",
      "mfvflvllplvssqcvnlrtrtqlppaytnsftrgvyypdkvfrssvlhstqdlflpffsnvtwfhaihvsgtngtkrfdnpvlpfndgvyfasteksniirgwifgttldsktqsllivnnatnvvikvcefqfcndpfldvyyhknnkswmesgvyssannctfeyvsqpflmdlegkqgnfknlrefvfknidgyfkiyskhtpinlvrdlpqgfsaleplvdlpiginitrfqtllalhrsyltpgdsssgwtagaaayyvgylqprtfllkynengtitdavdcaldplsetkctlksftvekgiyqtsnfrvqptesivrfpnitnlcpfgevfnatrfasvyawnrkrisncvadysvlynsasfstfkcygvsptklndlcftnvyadsfvirgdevrqiapgqtgkiadynyklpddftgcviawnsnnldskvggnynyryrlfrksnlkpferdisteiyqagskpcngvegfncyfplqsygfqptngvgyqpyrvvvlsfellhapatvcgpkkstnlvknkcvnfnfngltgtgvltesnkkflpfqqfgrdiadttdavrdpqtleilditpcsfggvsvitpgtntsnqvavlyqgvnctevpvaihadqltptwrvystgsnvfqtragcligaehvnnsyecdipigagicasyqtqtnsrrrarsvasqsiiaytmslgaensvaysnnsiaiptnftisvtteilpvsmtktsvdctmyicgdstecsnlllqygsfctqlnraltgiaveqdkntqevfaqvkqiyktppikdfggfnfsqilpdpskpskrsfiedllfnkvtladagfikqygdclgdiaardlicaqkfngltvlpplltdemiaqytsallagtitsgwtfgagaalqipfamqmayrfngigvtqnvlyenqklianqfnsaigkiqdslsstasalgklqnvvnqnaqalntlvkqlssnfgaissvlndilsrldkveaevqidrlitgrlqslqtyvtqqliraaeirasanlaatkmsecvlgqskrvdfcgkgyhlmsfpqsaphgvvflhvtyvpaqeknfttapaichdgkahfpregvfvsngthwfvtqrnfyepqiittdntfvsgncdvvigivnntvydplqpeldsfkeeldkyfknhtspdvdlgdisginasvvniqkeidrlnevaknlneslidlqelgkyeqyikwpwyiwlgfiagliaivmvtimlccmtsccsclkgccscgscckfdeddsepvlkgvklhyt\n",
      ">Lambda\n",
      "mfvflvllplvssqcvnlttrtqlppaytnsftrgvyypdkvfrssvlhstqdlflpffsnvtwfhaihvsgtnvikrfdnpvlpfndgvyfasteksniirgwifgttldsktqsllivnnatnvvikvcefqfcndpflgvyyhknnkswmesefrvyssannctfeyvsqpflmdlegkqgnfknlrefvfknidgyfkiyskhtpinlvrdlpqgfsaleplvdlpiginitrfqtllalhnsssgwtagaaayyvgylqprtfllkynengtitdavdcaldplsetkctlksftvekgiyqtsnfrvqptesivrfpnitnlcpfgevfnatrfasvyawnrkrisncvadysvlynsasfstfkcygvsptklndlcftnvyadsfvirgdevrqiapgqtgkiadynyklpddftgcviawnsnnldskvggnynyqyrlfrksnlkpferdisteiyqagstpcngvegfncysplqsygfqptngvgyqpyrvvvlsfellhapatvcgpkkstnlvknkcvnfnfngltgtgvltesnkkflpfqqfgrdiadttdavrdpqtleilditpcsfggvsvitpgtntsnqvavlyqgvnctevpvaihadqltptwrvystgsnvfqtragcligaehvnnsyecdipigagicasyqtqtnsprrarsvasqsiiaytmslgaensvaysnnsiaiptnftisvtteilpvsmtktsvdctmyicgdstecsnlllqygsfctqlnraltgiaveqdkntqevfaqvkqiyktppikdfggfnfsqilpdpskpskrsfiedllfnkvtladagfikqygdclgdiaardlicaqkfnglnvlpplltdemiaqytsallagtitsgwtfgagaalqipfamqmayrfngigvtqnvlyenqklianqfnsaigkiqdslsstasalgklqdvvnqnaqalntlvkqlssnfgaissvlndilsrldkveaevqidrlitgrlqslqtyvtqqliraaeirasanlaatkmsecvlgqskrvdfcgkgyhlmsfpqsaphgvvflhvtyvpaqeknfttapaichdgkahfpregvfvsngthwfvtqrnfyepqiittdntfvsgncdvvigivnntvydplqpeldsfkeeldkyfknhtspdvdlgdisginasvvniqkeidrlnevaknlneslidlqelgkyeqyikwpwyiwlgfiagliaivmvtimlccmtsccsclkgccscgscckfdeddsepvlkgvklhyt\n",
      ">Kappa\n",
      "mfvflvllplvssqcvnlttrtqlppaytnsftrgvyypdkvfrssvlhstqdlflpffsnvtwfhaihvsgtngtkrfdnpvlpfndgvyfasteksniirgwifgttldsktqsllivnnatnvvikvcefqfcndpfldvyyhknnkswmksefrvyssannctfeyvsqpflmdlegkqgnfknlrefvfknidgyfkiyskhtpinlvrdlpqgfsaleplvdlpiginitrfqtllalhrsyltpgdsssgwtagaaayyvgylqprtfllkynengtitdavdcaldplsetkctlksftvekgiyqtsnfrvqptesivrfpnitnlcpfgevfnatrfasvyawnrkrisncvadysvlynsasfstfkcygvsptklndlcftnvyadsfvirgdevrqiapgqtgkiadynyklpddftgcviawnsnnldskvggnynyryrlfrksnlkpferdisteiyqagstpcngvqgfncyfplqsygfqptngvgyqpyrvvvlsfellhapatvcgpkkstnlvknkcvnfnfngltgtgvltesnkkflpfqqfgrdiadttdavrdpqtleilditpcsfggvsvitpgtntsnqvavlyqgvnctevpvaihadqltptwrvystgsnvfqtragcligaehvnnsyecdipigagicasyqtqtnsrrrarsvasqsiiaytmslgaensvaysnnsiaiptnftisvtteilpvsmtktsvdctmyicgdstecsnlllqygsfctqlnraltgiaveqdkntqevfaqvkqiyktppikdfggfnfsqilpdpskpskrsfiedllfnkvtladagfikqygdclgdiaardlicaqkfngltvlpplltdemiaqytsallagtitsgwtfgagaalqipfamqmayrfngigvtqnvlyenqklianqfnsaigkiqdslsstasalgklqdvvnqnaqalntlvkqlssnfgaissvlndilsrldkveaevqidrlitgrlqslqtyvtqqliraaeirasanlaatkmsecvlgqskrvdfcgkgyhlmsfpqsaphgvvflhvtyvpaheknfttapaichdgkahfpregvfvsngthwfvtqrnfyepqiittdntfvsgncdvvigivnntvydplqpeldsfkeeldkyfknhtspdvdlgdisginasvvniqkeidrlnevaknlneslidlqelgkyeqyikwpwyiwlgfiagliaivmvtimlccmtsccsclkgccscgscckfdeddsepvlkgvklhyt\n",
      ">Gamma\n",
      "mfvflvllplvssqcvnlttrtqlppaytnsftrgvyypdkvfrssvlhstqdlflpffsnvtwfhaisgtngtkrfdnpvlpfndgvyfasteksniirgwifgttldsktqsllivnnatnvvikvcefqfcndpflgvyhknnkswmesefrvyssannctfeyvsqpflmdlegkqgnfknlrefvfknidgyfkiyskhtpinlvrdlpqgfsaleplvdlpiginitrfqtllalhrsyltpgdsssgwtagaaayyvgylqprtfllkynengtitdavdcaldplsetkctlksftvekgiyqtsnfrvqptesivrfpnitnlcpfgevfnatrfasvyawnrkrisncvadysvlynsasfstfkcygvsptklndlcftnvyadsfvirgdevrqiapgqtgkiadynyklpddftgcviawnsnnldskvggnynylyrlfrksnlkpferdisteiyqagstpcngvegfncyfplqsygfqptygvgyqpyrvvvlsfellhapatvcgpkkstnlvknkcvnfnfngltgtgvltesnkkflpfqqfgrdiddttdavrdpqtleilditpcsfggvsvitpgtntsnqvavlyqgvnctevpvaihadqltptwrvystgsnvfqtragcligaehvnnsyecdipigagicasyqtqtnshrrarsvasqsiiaytmslgaensvaysnnsiaipinftisvtteilpvsmtktsvdctmyicgdstecsnlllqygsfctqlnraltgiaveqdkntqevfaqvkqiyktppikdfggfnfsqilpdpskpskrsfiedllfnkvtladagfikqygdclgdiaardlicaqkfngltvlpplltdemiaqytsallagtitsgwtfgagaalqipfamqmayrfngigvtqnvlyenqklianqfnsaigkiqdslsstasalgklqdvvnqnaqalntlvkqlssnfgaissvlndilarldkveaevqidrlitgrlqslqtyvtqqliraaeirasanlaatkmsecvlgqskrvdfcgkgyhlmsfpqsaphgvvflhvtyvpaqeknfttapaichdgkahfpregvfvsngthwfvtqrnfyepqiitthntfvsgncdvvigivnntvydplqpeldsfkeeldkyfknhtspdvdlgdisginasvvniqkeidrlnevaknlneslidlqelgkyeqyikwpwyiwlgfiagliaivmvtimlccmtsccsclkgccscgscckfdeddsepvlkgvklhyt\n",
      ">Beta\n",
      "mfvflvllplvssqcvnfttrtqlppaytnsftrgvyypdkvfrssvlhstqdlflpffsnvtwfhaihvsgtngtkrfanpvlpfndgvyfasteksniirgwifgttldsktqsllivnnatnvvikvcefqfcndpflgvyyhknnkswmesefrvyssannctfeyvsqpflmdlegkqgnfknlrefvfknidgyfkiyskhtpinlvrglpqgfsaleplvdlpiginitrfqtlhisyltpgdsssgwtagaaayyvgylqprtfllkynengtitdavdcaldplsetkctlksftvekgiyqtsnfrvqptesivrfpnitnlcpfgevfnatrfasvyawnrkrisncvadysvlynsasfstfkcygvsptklndlcftnvyadsfvirgdevrqiapgqtgniadynyklpddftgcviawnsnnldskvggnynylyrlfrksnlkpferdisteiyqagstpcngvkgfncyfplqsygfqptygvgyqpyrvvvlsfellhapatvcgpkkstnlvknkcvnfnfngltgtgvltesnkkflpfqqfgrdiadttdavrdpqtleilditpcsfggvsvitpgtntsnqvavlyqgvnctevpvaihadqltptwrvystgsnvfqtragcligaehvnnsyecdipigagicasyqtqtnsprrarsvasqsiiaytmslgvensvaysnnsiaiptnftisvtteilpvsmtktsvdctmyicgdstecsnlllqygsfctqlnraltgiaveqdkntqevfaqvkqiyktppikdfggfnfsqilpdpskpskrsfiedllfnkvtladagfikqygdclgdiaardlicaqkfngltvlpplltdemiaqytsallagtitsgwtfgagaalqipfamqmayrfngigvtqnvlyenqklianqfnsaigkiqdslsstasalgklqdvvnqnaqalntlvkqlssnfgaissvlndilsrldkveaevqidrlitgrlqslqtyvtqqliraaeirasanlaatkmsecvlgqskrvdfcgkgyhlmsfpqsaphgvvflhvtyvpaqeknfttapaichdgkahfpregvfvsngthwfvtqrnfyepqiittdntfvsgncdvvigivnntvydplqpeldsfkeeldkyfknhtspdvdlgdisginasvvniqkeidrlnevaknlneslidlqelgkyeqyikwpwyiwlgfiagliaivmvtimlccmtsccsclkgccscgscckfdeddsepvlkgvklhyt\n",
      ">Alpha\n",
      "mfvflvllplvssqcvnlttrtqlppaytnsftrgvyypdkvfrssvlhstqdlflpffsnvtwfhaisgtngtkrfdnpvlpfndgvyfasteksniirgwifgttldsktqsllivnnatnvvikvcefqfcndpflgvyhknnkswmesefrvyssannctfeyvsqpflmdlegkqgnfknlrefvfknidgyfkiyskhtpinlvrdlpqgfsaleplvdlpiginitrfqtllalhrsyltpgdsssgwtagaaayyvgylqprtfllkynengtitdavdcaldplsetkctlksftvekgiyqtsnfrvqptesivrfpnitnlcpfgevfnatrfasvyawnrkrisncvadysvlynsasfstfkcygvsptklndlcftnvyadsfvirgdevrqiapgqtgkiadynyklpddftgcviawnsnnldskvggnynylyrlfrksnlkpferdisteiyqagstpcngvegfncyfplqsygfqptygvgyqpyrvvvlsfellhapatvcgpkkstnlvknkcvnfnfngltgtgvltesnkkflpfqqfgrdiddttdavrdpqtleilditpcsfggvsvitpgtntsnqvavlyqgvnctevpvaihadqltptwrvystgsnvfqtragcligaehvnnsyecdipigagicasyqtqtnshrrarsvasqsiiaytmslgaensvaysnnsiaipinftisvtteilpvsmtktsvdctmyicgdstecsnlllqygsfctqlnraltgiaveqdkntqevfaqvkqiyktppikdfggfnfsqilpdpskpskrsfiedllfnkvtladagfikqygdclgdiaardlicaqkfngltvlpplltdemiaqytsallagtitsgwtfgagaalqipfamqmayrfngigvtqnvlyenqklianqfnsaigkiqdslsstasalgklqdvvnqnaqalntlvkqlssnfgaissvlndilarldkveaevqidrlitgrlqslqtyvtqqliraaeirasanlaatkmsecvlgqskrvdfcgkgyhlmsfpqsaphgvvflhvtyvpaqeknfttapaichdgkahfpregvfvsngthwfvtqrnfyepqiitthntfvsgncdvvigivnntvydplqpeldsfkeeldkyfknhtspdvdlgdisginasvvniqkeidrlnevaknlneslidlqelgkyeqyikwpwyiwlgfiagliaivmvtimlccmtsccsclkgccscgscckfdeddsepvlkgvklhyt\n"
     ]
    }
   ],
   "source": [
    "omicron_seq = extract_sequence(\"../OMICRON.txt\", \"omicron_mask.seq\")\n",
    "delta_seq = extract_sequence(\"../DELTA.txt\", \"delta_mask.seq\")\n",
    "lambda_seq = extract_sequence(\"../LAMBDA.txt\", \"lambda_mask.seq\")\n",
    "kappa_seq = extract_sequence(\"../KAPPA.txt\", \"kappa_mask.seq\")\n",
    "gamma_seq = extract_sequence(\"../GAMMA.txt\", \"gamma_mask.seq\")\n",
    "beta_seq = extract_sequence(\"../BETA.txt\", \"beta_mask.seq\")\n",
    "alpha_seq = extract_sequence(\"../ALPHA.txt\", \"alpha_mask.seq\")\n",
    "\n"
   ]
  },
  {
   "cell_type": "code",
   "execution_count": 7,
   "id": "statistical-review",
   "metadata": {
    "ExecuteTime": {
     "end_time": "2022-02-24T20:28:44.746338Z",
     "start_time": "2022-02-24T20:03:00.262666Z"
    }
   },
   "outputs": [
    {
     "name": "stdout",
     "output_type": "stream",
     "text": [
      "offset 1\n",
      "offset 2\n",
      "offset 3\n",
      "offset 4\n",
      "offset 5\n",
      "offset 6\n",
      "offset 7\n",
      "offset 8\n",
      "offset 9\n"
     ]
    }
   ],
   "source": [
    "omicron_mut_locs = [67, 95, 142, 212, 214, 339, 371, 373, 375, 417, 440, 446, 477, 478, 484, 493, 496, 498, 501, 505, 547, 614, 655, 679, 681, 764, 796, 856, 954, 969, 981]\n",
    "\n",
    "for offset in range(1, 10):\n",
    "    print(\"offset\", offset)\n",
    "    seq_mask = create_seq_mask(omicron_seq, omicron_mut_locs, offset=offset)\n",
    "\n",
    "    with open(f\"omicron/omicron_mask_offset_{offset}.seq\", \"w\") as out_file:\n",
    "        out_file.write(seq_mask) \n",
    "    \n",
    "    output = run_blast(f\"omicron/omicron_mask_offset_{offset}.seq\", f\"omicron/blast_output_offset_{offset}.txt\")"
   ]
  },
  {
   "cell_type": "code",
   "execution_count": 6,
   "id": "ethical-bangkok",
   "metadata": {
    "ExecuteTime": {
     "end_time": "2022-02-20T13:11:53.133122Z",
     "start_time": "2022-02-20T12:58:14.975153Z"
    }
   },
   "outputs": [
    {
     "name": "stdout",
     "output_type": "stream",
     "text": [
      "offset 1\n",
      "offset 2\n",
      "offset 3\n",
      "offset 4\n",
      "offset 5\n",
      "offset 6\n",
      "offset 7\n",
      "offset 8\n",
      "offset 9\n"
     ]
    }
   ],
   "source": [
    "delta_mut_locs = [19, 142, 156, 157, 158, 452, 478, 614, 859]\n",
    "\n",
    "for offset in range(1, 10):\n",
    "    print(\"offset\", offset)\n",
    "    seq_mask = create_seq_mask(delta_seq, delta_mut_locs, offset=offset)\n",
    "\n",
    "    with open(f\"delta/delta_mask_offset_{offset}.seq\", \"w\") as out_file:\n",
    "        out_file.write(seq_mask) \n",
    "    \n",
    "    output = run_blast(f\"delta/delta_mask_offset_{offset}.seq\", f\"delta/blast_output_offset_{offset}.txt\")"
   ]
  },
  {
   "cell_type": "code",
   "execution_count": 9,
   "id": "hungarian-twenty",
   "metadata": {
    "ExecuteTime": {
     "end_time": "2022-02-27T10:41:27.571406Z",
     "start_time": "2022-02-27T10:27:40.419662Z"
    }
   },
   "outputs": [
    {
     "name": "stdout",
     "output_type": "stream",
     "text": [
      "offset 1\n",
      "offset 2\n",
      "offset 3\n",
      "offset 4\n",
      "offset 5\n",
      "offset 6\n",
      "offset 7\n",
      "offset 8\n",
      "offset 9\n"
     ]
    }
   ],
   "source": [
    "kappa_mut_locs = [142, 154, 452, 484, 614, 681, 1071]\n",
    "\n",
    "for offset in range(1, 10):\n",
    "    print(\"offset\", offset)\n",
    "    seq_mask = create_seq_mask(kappa_seq, kappa_mut_locs, offset=offset)\n",
    "\n",
    "    with open(f\"kappa/kappa_mask_offset_{offset}.seq\", \"w\") as out_file:\n",
    "        out_file.write(seq_mask) \n",
    "    \n",
    "    output = run_blast(f\"kappa/kappa_mask_offset_{offset}.seq\", f\"kappa/blast_output_offset_{offset}.txt\")"
   ]
  },
  {
   "cell_type": "code",
   "execution_count": 10,
   "id": "split-swift",
   "metadata": {
    "ExecuteTime": {
     "end_time": "2022-02-27T10:56:07.558107Z",
     "start_time": "2022-02-27T10:41:27.582553Z"
    }
   },
   "outputs": [
    {
     "name": "stdout",
     "output_type": "stream",
     "text": [
      "offset 1\n",
      "offset 2\n",
      "offset 3\n",
      "offset 4\n",
      "offset 5\n",
      "offset 6\n",
      "offset 7\n",
      "offset 8\n",
      "offset 9\n"
     ]
    }
   ],
   "source": [
    "lambda_mut_locs = [75, 76, 246, 247, 248, 249, 250, 251, 252, 253, 452, 490, 614, 859]\n",
    "\n",
    "for offset in range(1, 10):\n",
    "    print(\"offset\", offset)\n",
    "    seq_mask = create_seq_mask(lambda_seq, lambda_mut_locs, offset=offset)\n",
    "\n",
    "    with open(f\"lambda/lambda_mask_offset_{offset}.seq\", \"w\") as out_file:\n",
    "        out_file.write(seq_mask) \n",
    "    \n",
    "    output = run_blast(f\"lambda/lambda_mask_offset_{offset}.seq\", f\"lambda/blast_output_offset_{offset}.txt\")"
   ]
  },
  {
   "cell_type": "code",
   "execution_count": 11,
   "id": "strange-removal",
   "metadata": {
    "ExecuteTime": {
     "end_time": "2022-02-27T11:09:02.708020Z",
     "start_time": "2022-02-27T10:56:07.581177Z"
    }
   },
   "outputs": [
    {
     "name": "stdout",
     "output_type": "stream",
     "text": [
      "offset 1\n",
      "offset 2\n",
      "offset 3\n",
      "offset 4\n",
      "offset 5\n",
      "offset 6\n",
      "offset 7\n",
      "offset 8\n",
      "offset 9\n"
     ]
    }
   ],
   "source": [
    "gamma_mut_locs = [69, 70, 144, 501, 570, 614, 681, 716, 982, 1118]\n",
    "\n",
    "for offset in range(1, 10):\n",
    "    print(\"offset\", offset)\n",
    "    seq_mask = create_seq_mask(gamma_seq, gamma_mut_locs, offset=offset)\n",
    "\n",
    "    with open(f\"gamma/gamma_mask_offset_{offset}.seq\", \"w\") as out_file:\n",
    "        out_file.write(seq_mask) \n",
    "    \n",
    "    output = run_blast(f\"gamma/gamma_mask_offset_{offset}.seq\", f\"gamma/blast_output_offset_{offset}.txt\")"
   ]
  },
  {
   "cell_type": "code",
   "execution_count": 12,
   "id": "average-practitioner",
   "metadata": {
    "ExecuteTime": {
     "end_time": "2022-02-27T11:23:09.871929Z",
     "start_time": "2022-02-27T11:09:02.720197Z"
    }
   },
   "outputs": [
    {
     "name": "stdout",
     "output_type": "stream",
     "text": [
      "offset 1\n",
      "offset 2\n",
      "offset 3\n",
      "offset 4\n",
      "offset 5\n",
      "offset 6\n",
      "offset 7\n",
      "offset 8\n",
      "offset 9\n"
     ]
    }
   ],
   "source": [
    "\n",
    "beta_mut_locs = [18, 80, 215, 242, 243, 244, 246, 417, 501, 484, 614, 701]\n",
    "\n",
    "for offset in range(1, 10):\n",
    "    print(\"offset\", offset)\n",
    "    seq_mask = create_seq_mask(beta_seq, beta_mut_locs, offset=offset)\n",
    "\n",
    "    with open(f\"beta/beta_mask_offset_{offset}.seq\", \"w\") as out_file:\n",
    "        out_file.write(seq_mask) \n",
    "    \n",
    "    output = run_blast(f\"beta/beta_mask_offset_{offset}.seq\", f\"beta/blast_output_offset_{offset}.txt\")"
   ]
  },
  {
   "cell_type": "code",
   "execution_count": 13,
   "id": "rolled-celebrity",
   "metadata": {
    "ExecuteTime": {
     "end_time": "2022-02-27T11:34:32.289123Z",
     "start_time": "2022-02-27T11:23:09.884157Z"
    }
   },
   "outputs": [
    {
     "name": "stdout",
     "output_type": "stream",
     "text": [
      "offset 1\n",
      "offset 2\n",
      "offset 3\n",
      "offset 4\n",
      "offset 5\n",
      "offset 6\n",
      "offset 7\n",
      "offset 8\n",
      "offset 9\n"
     ]
    }
   ],
   "source": [
    "\n",
    "alpha_mut_locs = [69, 70, 144, 501, 570, 614, 681, 716, 982, 1118]\n",
    "\n",
    "for offset in range(1, 10):\n",
    "    print(\"offset\", offset)\n",
    "    seq_mask = create_seq_mask(alpha_seq, alpha_mut_locs, offset=offset)\n",
    "\n",
    "    with open(f\"alpha/alpha_mask_offset_{offset}.seq\", \"w\") as out_file:\n",
    "        out_file.write(seq_mask) \n",
    "    \n",
    "    output = run_blast(f\"alpha/alpha_mask_offset_{offset}.seq\", f\"alpha/blast_output_offset_{offset}.txt\")"
   ]
  },
  {
   "cell_type": "code",
   "execution_count": null,
   "id": "prostate-prime",
   "metadata": {},
   "outputs": [],
   "source": []
  },
  {
   "cell_type": "code",
   "execution_count": null,
   "id": "distinguished-crossing",
   "metadata": {},
   "outputs": [],
   "source": []
  }
 ],
 "metadata": {
  "kernelspec": {
   "display_name": "Python 3",
   "language": "python",
   "name": "python3"
  },
  "language_info": {
   "codemirror_mode": {
    "name": "ipython",
    "version": 3
   },
   "file_extension": ".py",
   "mimetype": "text/x-python",
   "name": "python",
   "nbconvert_exporter": "python",
   "pygments_lexer": "ipython3",
   "version": "3.8.10"
  },
  "varInspector": {
   "cols": {
    "lenName": 16,
    "lenType": 16,
    "lenVar": 40
   },
   "kernels_config": {
    "python": {
     "delete_cmd_postfix": "",
     "delete_cmd_prefix": "del ",
     "library": "var_list.py",
     "varRefreshCmd": "print(var_dic_list())"
    },
    "r": {
     "delete_cmd_postfix": ") ",
     "delete_cmd_prefix": "rm(",
     "library": "var_list.r",
     "varRefreshCmd": "cat(var_dic_list()) "
    }
   },
   "types_to_exclude": [
    "module",
    "function",
    "builtin_function_or_method",
    "instance",
    "_Feature"
   ],
   "window_display": false
  }
 },
 "nbformat": 4,
 "nbformat_minor": 5
}
