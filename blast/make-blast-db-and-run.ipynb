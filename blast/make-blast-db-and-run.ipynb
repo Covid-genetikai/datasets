{
 "cells": [
  {
   "cell_type": "code",
   "execution_count": 22,
   "id": "pressing-legislation",
   "metadata": {
    "ExecuteTime": {
     "end_time": "2022-02-12T22:03:00.367383Z",
     "start_time": "2022-02-12T22:03:00.348097Z"
    }
   },
   "outputs": [],
   "source": [
    "import pandas as pd\n",
    "from Bio.Blast.Applications import NcbiblastpCommandline"
   ]
  },
  {
   "cell_type": "markdown",
   "id": "beneficial-commerce",
   "metadata": {},
   "source": [
    "# Make local BLAST db"
   ]
  },
  {
   "cell_type": "code",
   "execution_count": 2,
   "id": "spanish-queensland",
   "metadata": {
    "ExecuteTime": {
     "end_time": "2022-02-12T12:59:07.352329Z",
     "start_time": "2022-02-12T12:57:55.990566Z"
    }
   },
   "outputs": [],
   "source": [
    "df_full = pd.read_csv(\"../ncbi_full.csv\")"
   ]
  },
  {
   "cell_type": "code",
   "execution_count": 33,
   "id": "featured-producer",
   "metadata": {
    "ExecuteTime": {
     "end_time": "2022-02-14T09:14:29.742800Z",
     "start_time": "2022-02-14T09:14:28.491085Z"
    }
   },
   "outputs": [],
   "source": [
    "i = 0\n",
    "with open(\"ncbi_sgene_protein_full.fasta\", \"w\") as fasta_file:\n",
    "        for _, row in df_full.iterrows():\n",
    "            fasta_file.write(f\">{row['accession']}\\n\")\n",
    "            fasta_file.write(f\"{row['sgene_protein']}\\n\")\n",
    "            i+=1\n",
    "            if i == 10000:\n",
    "                break;"
   ]
  },
  {
   "cell_type": "markdown",
   "id": "designing-angola",
   "metadata": {},
   "source": [
    "https://www.ncbi.nlm.nih.gov/books/NBK569841/"
   ]
  },
  {
   "cell_type": "code",
   "execution_count": 34,
   "id": "stylish-figure",
   "metadata": {
    "ExecuteTime": {
     "end_time": "2022-02-14T09:14:33.891992Z",
     "start_time": "2022-02-14T09:14:31.860858Z"
    }
   },
   "outputs": [
    {
     "name": "stdout",
     "output_type": "stream",
     "text": [
      "\n",
      "\n",
      "Building a new DB, current time: 02/14/2022 10:14:32\n",
      "New DB name:   /data/covid/ncbi_2021-10-12/1_tree/blastdb/ncbi_sgene_protein_full.fasta\n",
      "New DB title:  ncbi_sgene_protein_full.fasta\n",
      "Sequence type: Protein\n",
      "Deleted existing Protein BLAST database named /data/covid/ncbi_2021-10-12/1_tree/blastdb/ncbi_sgene_protein_full.fasta\n",
      "Keep MBits: T\n",
      "Maximum file size: 1000000000B\n",
      "Adding sequences from FASTA; added 10000 sequences in 0.468218 seconds.\n",
      "\n",
      "\n"
     ]
    }
   ],
   "source": [
    "!makeblastdb -in ncbi_sgene_protein_full.fasta -dbtype prot"
   ]
  },
  {
   "cell_type": "markdown",
   "id": "equal-organization",
   "metadata": {},
   "source": [
    "## Extract DELTA sequence for BLAST query"
   ]
  },
  {
   "cell_type": "code",
   "execution_count": 24,
   "id": "alive-liabilities",
   "metadata": {
    "ExecuteTime": {
     "end_time": "2022-02-12T22:04:21.326670Z",
     "start_time": "2022-02-12T22:04:21.312743Z"
    }
   },
   "outputs": [
    {
     "name": "stdout",
     "output_type": "stream",
     "text": [
      ">DELTA\n",
      "MFVFLVLLPLVSSQCVNLRTRTQLPPAYTNSFTRGVYYPDKVFRSSVLHSTQDLFLPFFSNVTWFHAIHVSGTNGTKRFDNPVLPFNDGVYFASTEKSNIIRGWIFGTTLDSKTQSLLIVNNATNVVIKVCEFQFCNDPFLDVYYHKNNKSWMESGVYSSANNCTFEYVSQPFLMDLEGKQGNFKNLREFVFKNIDGYFKIYSKHTPINLVRDLPQGFSALEPLVDLPIGINITRFQTLLALHRSYLTPGDSSSGWTAGAAAYYVGYLQPRTFLLKYNENGTITDAVDCALDPLSETKCTLKSFTVEKGIYQTSNFRVQPTESIVRFPNITNLCPFGEVFNATRFASVYAWNRKRISNCVADYSVLYNSASFSTFKCYGVSPTKLNDLCFTNVYADSFVIRGDEVRQIAPGQTGKIADYNYKLPDDFTGCVIAWNSNNLDSKVGGNYNYRYRLFRKSNLKPFERDISTEIYQAGSKPCNGVEGFNCYFPLQSYGFQPTNGVGYQPYRVVVLSFELLHAPATVCGPKKSTNLVKNKCVNFNFNGLTGTGVLTESNKKFLPFQQFGRDIADTTDAVRDPQTLEILDITPCSFGGVSVITPGTNTSNQVAVLYQGVNCTEVPVAIHADQLTPTWRVYSTGSNVFQTRAGCLIGAEHVNNSYECDIPIGAGICASYQTQTNSRRRARSVASQSIIAYTMSLGAENSVAYSNNSIAIPTNFTISVTTEILPVSMTKTSVDCTMYICGDSTECSNLLLQYGSFCTQLNRALTGIAVEQDKNTQEVFAQVKQIYKTPPIKDFGGFNFSQILPDPSKPSKRSFIEDLLFNKVTLADAGFIKQYGDCLGDIAARDLICAQKFNGLTVLPPLLTDEMIAQYTSALLAGTITSGWTFGAGAALQIPFAMQMAYRFNGIGVTQNVLYENQKLIANQFNSAIGKIQDSLSSTASALGKLQNVVNQNAQALNTLVKQLSSNFGAISSVLNDILSRLDKVEAEVQIDRLITGRLQSLQTYVTQQLIRAAEIRASANLAATKMSECVLGQSKRVDFCGKGYHLMSFPQSAPHGVVFLHVTYVPAQEKNFTTAPAICHDGKAHFPREGVFVSNGTHWFVTQRNFYEPQIITTDNTFVSGNCDVVIGIVNNTVYDPLQPELDSFKEELDKYFKNHTSPDVDLGDISGINASVVNIQKEIDRLNEVAKNLNESLIDLQELGKYEQYIKWPWYIWLGFIAGLIAIVMVTIMLCCMTSCCSCLKGCCSCGSCCKFDEDDSEPVLKGVKLHYT\n"
     ]
    }
   ],
   "source": [
    "with open(\"DELTA.txt\") as delta_file:\n",
    "    title = \"\"\n",
    "    sequence = \"\"\n",
    "    for line in delta_file:\n",
    "        line = line.replace(\"\\n\", \"\")\n",
    "        if line.startswith(\">\"):\n",
    "            if sequence:\n",
    "                print(title)\n",
    "                print(sequence)\n",
    "                \n",
    "                with open(\"delta.seq\", \"w\") as delta_seq_file:\n",
    "                    delta_seq_file.write(sequence)\n",
    "                    \n",
    "                break\n",
    "            title = line\n",
    "        else:\n",
    "            sequence += line"
   ]
  },
  {
   "cell_type": "code",
   "execution_count": 37,
   "id": "furnished-lightning",
   "metadata": {
    "ExecuteTime": {
     "end_time": "2022-02-14T09:24:33.538225Z",
     "start_time": "2022-02-14T09:24:33.525158Z"
    }
   },
   "outputs": [
    {
     "name": "stdout",
     "output_type": "stream",
     "text": [
      ">OMICRON\n",
      "MFVFLVLLPLVSSQCVNLTTRTQLPPAYTNSFTRGVYYPDKVFRSSVLHSTQDLFLPFFSNVTWFHVISGTNGTKRFDNPVLPFNDGVYFASIEKSNIIRGWIFGTTLDSKTQSLLIVNNATNVVIKVCEFQFCNDPFLDHKNNKSWMESEFRVYSSANNCTFEYVSQPFLMDLEGKQGNFKNLREFVFKNIDGYFKIYSKHTPIIVEPERDLPQGFSALEPLVDLPIGINITRFQTLLALHRSYLTPGDSSSGWTAGAAAYYVGYLQPRTFLLKYNENGTITDAVDCALDPLSETKCTLKSFTVEKGIYQTSNFRVQPTESIVRFPNITNLCPFDEVFNATRFASVYAWNRKRISNCVADYSVLYNLAPFFTFKCYGVSPTKLNDLCFTNVYADSFVIRGDEVRQIAPGQTGNIADYNYKLPDDFTGCVIAWNSNKLDSKVSGNYNYLYRLFRKSNLKPFERDISTEIYQAGNKPCNGVAGFNCYFPLRSYSFRPTYGVGHQPYRVVVLSFELLHAPATVCGPKKSTNLVKNKCVNFNFNGLKGTGVLTESNKKFLPFQQFGRDIADTTDAVRDPQTLEILDITPCSFGGVSVITPGTNTSNQVAVLYQGVNCTEVPVAIHADQLTPTWRVYSTGSNVFQTRAGCLIGAEYVNNSYECDIPIGAGICASYQTQTKSHRRARSVASQSIIAYTMSLGAENSVAYSNNSIAIPTNFTISVTTEILPVSMTKTSVDCTMYICGDSTECSNLLLQYGSFCTQLKRALTGIAVEQDKNTQEVFAQVKQIYKTPPIKYFGGFNFSQILPDPSKPSKRSFIEDLLFNKVTLADAGFIKQYGDCLGDIAARDLICAQKFKGLTVLPPLLTDEMIAQYTSALLAGTITSGWTFGAGAALQIPFAMQMAYRFNGIGVTQNVLYENQKLIANQFNSAIGKIQDSLSSTASALGKLQDVVNHNAQALNTLVKQLSSKFGAISSVLNDIFSRLDKVEAEVQIDRLITGRLQSLQTYVTQQLIRAAEIRASANLAATKMSECVLGQSKRVDFCGKGYHLMSFPQSAPHGVVFLHVTYVPAQEKNFTTAPAICHDGKAHFPREGVFVSNGTHWFVTQRNFYEPQIITTDNTFVSGNCDVVIGIVNNTVYDPLQPELDSFKEELDKYFKNHTSPDVDLGDISGINASVVNIQKEIDRLNEVAKNLNESLIDLQELGKYEQYIKWPWYIWLGFIAGLIAIVMVTIMLCCMTSCCSCLKGCCSCGSCCKFDEDDSEPVLKGVKLHYT\n"
     ]
    }
   ],
   "source": [
    "with open(\"OMICRON.txt\") as delta_file:\n",
    "    title = \"\"\n",
    "    sequence = \"\"\n",
    "    for line in delta_file:\n",
    "        line = line.replace(\"\\n\", \"\")\n",
    "        if line.startswith(\">\"):\n",
    "            if sequence:\n",
    "                print(title)\n",
    "                print(sequence)\n",
    "                \n",
    "                with open(\"omicron.seq\", \"w\") as delta_seq_file:\n",
    "                    delta_seq_file.write(sequence)\n",
    "                    \n",
    "                break\n",
    "            title = line\n",
    "        else:\n",
    "            sequence += line"
   ]
  },
  {
   "cell_type": "markdown",
   "id": "logical-marina",
   "metadata": {},
   "source": [
    "## Run BLAST"
   ]
  },
  {
   "cell_type": "code",
   "execution_count": 35,
   "id": "determined-training",
   "metadata": {
    "ExecuteTime": {
     "end_time": "2022-02-14T09:14:46.075385Z",
     "start_time": "2022-02-14T09:14:42.222090Z"
    }
   },
   "outputs": [
    {
     "data": {
      "text/plain": [
       "('', '')"
      ]
     },
     "execution_count": 35,
     "metadata": {},
     "output_type": "execute_result"
    }
   ],
   "source": [
    "cline = NcbiblastpCommandline(query=\"delta.seq\", \n",
    "                              db=\"ncbi_sgene_protein_full.fasta\", \n",
    "                              out=\"blast_delta.output\", \n",
    "                              outfmt=\"7\", # 12 JSON, 5 XML\n",
    "                              num_threads = 5\n",
    "                              ,max_target_seqs = 10000 # kiek outputas tures eiluciu                              \n",
    "                            )\n",
    "#print(f\"!{cline}\") # atspausdina commandline pilna komanda\n",
    "cline()"
   ]
  },
  {
   "cell_type": "code",
   "execution_count": 38,
   "id": "settled-albuquerque",
   "metadata": {
    "ExecuteTime": {
     "end_time": "2022-02-14T09:24:41.344762Z",
     "start_time": "2022-02-14T09:24:36.591796Z"
    }
   },
   "outputs": [
    {
     "data": {
      "text/plain": [
       "('', '')"
      ]
     },
     "execution_count": 38,
     "metadata": {},
     "output_type": "execute_result"
    }
   ],
   "source": [
    "cline = NcbiblastpCommandline(query=\"omicron.seq\", \n",
    "                              db=\"ncbi_sgene_protein_full.fasta\", \n",
    "                              out=\"blast_omicron.output\", \n",
    "                              outfmt=\"7\", # 12 JSON, 5 XML\n",
    "                              num_threads = 5\n",
    "                              ,max_target_seqs = 10000 # kiek outputas tures eiluciu                              \n",
    "                            )\n",
    "#print(f\"!{cline}\") # atspausdina commandline pilna komanda\n",
    "cline()"
   ]
  }
 ],
 "metadata": {
  "kernelspec": {
   "display_name": "Python 3",
   "language": "python",
   "name": "python3"
  },
  "language_info": {
   "codemirror_mode": {
    "name": "ipython",
    "version": 3
   },
   "file_extension": ".py",
   "mimetype": "text/x-python",
   "name": "python",
   "nbconvert_exporter": "python",
   "pygments_lexer": "ipython3",
   "version": "3.8.10"
  },
  "varInspector": {
   "cols": {
    "lenName": 16,
    "lenType": 16,
    "lenVar": 40
   },
   "kernels_config": {
    "python": {
     "delete_cmd_postfix": "",
     "delete_cmd_prefix": "del ",
     "library": "var_list.py",
     "varRefreshCmd": "print(var_dic_list())"
    },
    "r": {
     "delete_cmd_postfix": ") ",
     "delete_cmd_prefix": "rm(",
     "library": "var_list.r",
     "varRefreshCmd": "cat(var_dic_list()) "
    }
   },
   "types_to_exclude": [
    "module",
    "function",
    "builtin_function_or_method",
    "instance",
    "_Feature"
   ],
   "window_display": false
  }
 },
 "nbformat": 4,
 "nbformat_minor": 5
}
