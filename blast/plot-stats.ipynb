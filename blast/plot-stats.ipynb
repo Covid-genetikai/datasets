{
 "cells": [
  {
   "cell_type": "code",
   "execution_count": 1,
   "id": "bridal-nerve",
   "metadata": {
    "ExecuteTime": {
     "end_time": "2022-02-28T20:29:14.142003Z",
     "start_time": "2022-02-28T20:29:13.317191Z"
    }
   },
   "outputs": [],
   "source": [
    "import pandas as pd\n",
    "import matplotlib.pyplot as plt\n",
    "import seaborn as sns"
   ]
  },
  {
   "cell_type": "code",
   "execution_count": 2,
   "id": "stylish-manufacturer",
   "metadata": {
    "ExecuteTime": {
     "end_time": "2022-02-28T20:29:14.150748Z",
     "start_time": "2022-02-28T20:29:14.143878Z"
    }
   },
   "outputs": [
    {
     "data": {
      "text/plain": [
       "1270"
      ]
     },
     "execution_count": 2,
     "metadata": {},
     "output_type": "execute_result"
    }
   ],
   "source": [
    "seq_length = len(open(\"omicron.seq\", \"r\").read())\n",
    "seq_length"
   ]
  },
  {
   "cell_type": "code",
   "execution_count": 3,
   "id": "equal-mumbai",
   "metadata": {
    "ExecuteTime": {
     "end_time": "2022-02-28T20:29:14.165709Z",
     "start_time": "2022-02-28T20:29:14.152938Z"
    }
   },
   "outputs": [],
   "source": [
    "columns = [\"query\", \"subject\", \"identity\", \"alignment_length\", \"mismatches\", \"gap_opens\", \"q_start\", \"q_end\", \"s_start\", \"s_end\", \"evalue\", \"bit_score\"]\n",
    "\n",
    "def read_blast_output(virus, offset):\n",
    "    \n",
    "    print(f\"{virus } offset {offset}\")\n",
    "        \n",
    "    output_path = f\"{virus}/blast_output_offset_{offset}.txt\"\n",
    "    \n",
    "    rows = []\n",
    "    for line in open(output_path, \"r\"):\n",
    "        if not line.startswith(\"Query\"):\n",
    "            continue\n",
    "        parts = line.split()\n",
    "        row = parts[:2]\n",
    "        row.extend(list(map(float, parts[2:])))\n",
    "        rows.append(row)\n",
    "    \n",
    "    return pd.DataFrame(rows, columns = columns)"
   ]
  },
  {
   "cell_type": "code",
   "execution_count": 4,
   "id": "primary-boost",
   "metadata": {
    "ExecuteTime": {
     "end_time": "2022-02-28T20:29:14.178620Z",
     "start_time": "2022-02-28T20:29:14.167899Z"
    }
   },
   "outputs": [],
   "source": [
    "def aggregate_df(virus, df):\n",
    "    g = df.groupby(\"subject\")\n",
    "    adf = g[\"identity\"].sum().to_frame()\n",
    "    adf.rename(columns={\"identity\": f\"{virus}_identity\"}, inplace=True)\n",
    "    adf[f\"{virus}_count\"] = g[\"identity\"].count()\n",
    "\n",
    "    adf[f\"{virus}_alignment_length\"] = g[\"alignment_length\"].sum()\n",
    "    adf[f\"{virus}_mismatches\"] = g[\"mismatches\"].sum()\n",
    "    adf[f\"{virus}_matches\"] = adf[f\"{virus}_alignment_length\"] - adf[f\"{virus}_mismatches\"]\n",
    "    adf[f\"{virus}_match_percent\"] = adf[f\"{virus}_matches\"] / seq_length\n",
    "\n",
    "#     adf.reset_index(inplace=True)\n",
    "    \n",
    "    return adf"
   ]
  },
  {
   "cell_type": "code",
   "execution_count": 5,
   "id": "intermediate-masters",
   "metadata": {
    "ExecuteTime": {
     "end_time": "2022-02-28T20:38:25.556056Z",
     "start_time": "2022-02-28T20:29:14.180025Z"
    }
   },
   "outputs": [
    {
     "name": "stdout",
     "output_type": "stream",
     "text": [
      "omicron offset 1\n",
      "lambda offset 1\n",
      "kappa offset 1\n",
      "delta offset 1\n",
      "gamma offset 1\n",
      "beta offset 1\n",
      "alpha offset 1\n",
      "omicron offset 2\n",
      "lambda offset 2\n",
      "kappa offset 2\n",
      "delta offset 2\n",
      "gamma offset 2\n",
      "beta offset 2\n",
      "alpha offset 2\n",
      "omicron offset 3\n",
      "lambda offset 3\n",
      "kappa offset 3\n",
      "delta offset 3\n",
      "gamma offset 3\n",
      "beta offset 3\n",
      "alpha offset 3\n",
      "omicron offset 4\n",
      "lambda offset 4\n",
      "kappa offset 4\n",
      "delta offset 4\n",
      "gamma offset 4\n",
      "beta offset 4\n",
      "alpha offset 4\n",
      "omicron offset 5\n",
      "lambda offset 5\n",
      "kappa offset 5\n",
      "delta offset 5\n",
      "gamma offset 5\n",
      "beta offset 5\n",
      "alpha offset 5\n",
      "omicron offset 6\n",
      "lambda offset 6\n",
      "kappa offset 6\n",
      "delta offset 6\n",
      "gamma offset 6\n",
      "beta offset 6\n",
      "alpha offset 6\n",
      "omicron offset 7\n",
      "lambda offset 7\n",
      "kappa offset 7\n",
      "delta offset 7\n",
      "gamma offset 7\n",
      "beta offset 7\n",
      "alpha offset 7\n",
      "omicron offset 8\n",
      "lambda offset 8\n",
      "kappa offset 8\n",
      "delta offset 8\n",
      "gamma offset 8\n",
      "beta offset 8\n",
      "alpha offset 8\n",
      "omicron offset 9\n",
      "lambda offset 9\n",
      "kappa offset 9\n",
      "delta offset 9\n",
      "gamma offset 9\n",
      "beta offset 9\n",
      "alpha offset 9\n"
     ]
    }
   ],
   "source": [
    "viruses = ['omicron', 'lambda', 'kappa', 'delta', 'gamma', 'beta', 'alpha']\n",
    "total_adf = None\n",
    "for offset in range(1, 10):\n",
    "    \n",
    "    for virus in viruses:\n",
    "        df = read_blast_output(virus, offset)\n",
    "        adf = aggregate_df(virus, df)\n",
    "        \n",
    "        if total_adf is None:\n",
    "            total_adf = adf\n",
    "        else:\n",
    "            total_adf = pd.concat([total_adf, adf], axis=1)\n",
    "            \n",
    "    total_adf.to_csv(f\"adf/adf_offset_{offset}.csv\")\n",
    "        "
   ]
  },
  {
   "cell_type": "code",
   "execution_count": 8,
   "id": "optional-algebra",
   "metadata": {
    "ExecuteTime": {
     "end_time": "2022-02-28T21:03:39.922386Z",
     "start_time": "2022-02-28T21:03:39.902668Z"
    }
   },
   "outputs": [],
   "source": [
    "sub_df = total_adf[[f\"{virus}_match_percent\" for virus in viruses]]\n",
    "#sub_df"
   ]
  },
  {
   "cell_type": "code",
   "execution_count": 10,
   "id": "strong-topic",
   "metadata": {
    "ExecuteTime": {
     "end_time": "2022-02-28T21:03:48.476183Z",
     "start_time": "2022-02-28T21:03:48.473400Z"
    }
   },
   "outputs": [],
   "source": [
    "# plt.figure(figsize=(15,10))\n",
    "# sns.histplot(sub_df.melt(), x='value', hue='variable', multiple='dodge', shrink=.75, bins=20);"
   ]
  }
 ],
 "metadata": {
  "kernelspec": {
   "display_name": "Python 3",
   "language": "python",
   "name": "python3"
  },
  "language_info": {
   "codemirror_mode": {
    "name": "ipython",
    "version": 3
   },
   "file_extension": ".py",
   "mimetype": "text/x-python",
   "name": "python",
   "nbconvert_exporter": "python",
   "pygments_lexer": "ipython3",
   "version": "3.8.10"
  },
  "varInspector": {
   "cols": {
    "lenName": 16,
    "lenType": 16,
    "lenVar": 40
   },
   "kernels_config": {
    "python": {
     "delete_cmd_postfix": "",
     "delete_cmd_prefix": "del ",
     "library": "var_list.py",
     "varRefreshCmd": "print(var_dic_list())"
    },
    "r": {
     "delete_cmd_postfix": ") ",
     "delete_cmd_prefix": "rm(",
     "library": "var_list.r",
     "varRefreshCmd": "cat(var_dic_list()) "
    }
   },
   "types_to_exclude": [
    "module",
    "function",
    "builtin_function_or_method",
    "instance",
    "_Feature"
   ],
   "window_display": false
  }
 },
 "nbformat": 4,
 "nbformat_minor": 5
}
