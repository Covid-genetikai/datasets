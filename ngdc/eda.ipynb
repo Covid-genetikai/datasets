{
 "cells": [
  {
   "cell_type": "code",
   "execution_count": 1,
   "id": "informational-mistress",
   "metadata": {},
   "outputs": [],
   "source": [
    "import pandas as pd\n",
    "import matplotlib.pyplot as plt"
   ]
  },
  {
   "cell_type": "code",
   "execution_count": 4,
   "id": "governmental-carter",
   "metadata": {},
   "outputs": [
    {
     "name": "stderr",
     "output_type": "stream",
     "text": [
      "/home/valdo/.local/share/virtualenvs/datasets-bKdeRL8a/lib/python3.8/site-packages/IPython/core/interactiveshell.py:3169: DtypeWarning: Columns (6,12,14) have mixed types.Specify dtype option on import or set low_memory=False.\n",
      "  has_raised = await self.run_ast_nodes(code_ast.body, cell_name,\n"
     ]
    },
    {
     "data": {
      "text/html": [
       "<div>\n",
       "<style scoped>\n",
       "    .dataframe tbody tr th:only-of-type {\n",
       "        vertical-align: middle;\n",
       "    }\n",
       "\n",
       "    .dataframe tbody tr th {\n",
       "        vertical-align: top;\n",
       "    }\n",
       "\n",
       "    .dataframe thead th {\n",
       "        text-align: right;\n",
       "    }\n",
       "</style>\n",
       "<table border=\"1\" class=\"dataframe\">\n",
       "  <thead>\n",
       "    <tr style=\"text-align: right;\">\n",
       "      <th></th>\n",
       "      <th>Virus Strain Name</th>\n",
       "      <th>Accession ID</th>\n",
       "      <th>Data Source</th>\n",
       "      <th>Related ID</th>\n",
       "      <th>Lineage</th>\n",
       "      <th>Nuc.Completeness</th>\n",
       "      <th>Sequence Length</th>\n",
       "      <th>Sequence Quality</th>\n",
       "      <th>Quality Assessment</th>\n",
       "      <th>`Host</th>\n",
       "      <th>Sample Collection Date</th>\n",
       "      <th>Location</th>\n",
       "      <th>Originating Lab</th>\n",
       "      <th>Submit Date</th>\n",
       "      <th>Submission Date</th>\n",
       "      <th>Submitting Lab</th>\n",
       "      <th>Create Time</th>\n",
       "      <th>Last Update Time</th>\n",
       "    </tr>\n",
       "  </thead>\n",
       "  <tbody>\n",
       "    <tr>\n",
       "      <th>0</th>\n",
       "      <td>BetaCoV/Wuhan/HBCDC-HB-01/2019</td>\n",
       "      <td>NMDC60013088-01</td>\n",
       "      <td>NMDC</td>\n",
       "      <td>EPI_ISL_402132</td>\n",
       "      <td>B</td>\n",
       "      <td>Complete</td>\n",
       "      <td>29848</td>\n",
       "      <td>High</td>\n",
       "      <td>0/0/-/-/-</td>\n",
       "      <td>Homo sapiens</td>\n",
       "      <td>2019-12-30</td>\n",
       "      <td>China / Hubei</td>\n",
       "      <td>Hubei Provincial Center for Disease Control an...</td>\n",
       "      <td>2020-01-19</td>\n",
       "      <td>Hubei Provincial Center for Disease Control an...</td>\n",
       "      <td>2020-01-20 12:04:48</td>\n",
       "      <td>2021-03-16 10:46:59</td>\n",
       "      <td>NaN</td>\n",
       "    </tr>\n",
       "    <tr>\n",
       "      <th>1</th>\n",
       "      <td>hCoV-19/Thailand/74/2020</td>\n",
       "      <td>EPI_ISL_403963</td>\n",
       "      <td>GISAID</td>\n",
       "      <td>NaN</td>\n",
       "      <td>B</td>\n",
       "      <td>Complete</td>\n",
       "      <td>29859</td>\n",
       "      <td>High</td>\n",
       "      <td>0/0/-/-/-</td>\n",
       "      <td>Homo sapiens</td>\n",
       "      <td>2020-01-13</td>\n",
       "      <td>Thailand/ Nonthaburi Province</td>\n",
       "      <td>Department of Medical Sciences, Ministry of Pu...</td>\n",
       "      <td>2020-01-17</td>\n",
       "      <td>Department of Medical Sciences, Ministry of Pu...</td>\n",
       "      <td>2020-01-20 12:04:48</td>\n",
       "      <td>2021-03-16 10:46:59</td>\n",
       "      <td>NaN</td>\n",
       "    </tr>\n",
       "    <tr>\n",
       "      <th>2</th>\n",
       "      <td>hCoV-19/Thailand/61/2020</td>\n",
       "      <td>EPI_ISL_403962</td>\n",
       "      <td>GISAID</td>\n",
       "      <td>NaN</td>\n",
       "      <td>B</td>\n",
       "      <td>Complete</td>\n",
       "      <td>29848</td>\n",
       "      <td>High</td>\n",
       "      <td>0/0/-/-/-</td>\n",
       "      <td>Homo sapiens</td>\n",
       "      <td>2020-01-08</td>\n",
       "      <td>Thailand/ Nonthaburi Province</td>\n",
       "      <td>Department of Medical Sciences, Ministry of Pu...</td>\n",
       "      <td>2020-01-17</td>\n",
       "      <td>Department of Medical Sciences, Ministry of Pu...</td>\n",
       "      <td>2020-01-20 12:04:48</td>\n",
       "      <td>2021-03-16 10:46:59</td>\n",
       "      <td>NaN</td>\n",
       "    </tr>\n",
       "  </tbody>\n",
       "</table>\n",
       "</div>"
      ],
      "text/plain": [
       "                Virus Strain Name     Accession ID Data Source  \\\n",
       "0  BetaCoV/Wuhan/HBCDC-HB-01/2019  NMDC60013088-01        NMDC   \n",
       "1        hCoV-19/Thailand/74/2020   EPI_ISL_403963      GISAID   \n",
       "2        hCoV-19/Thailand/61/2020   EPI_ISL_403962      GISAID   \n",
       "\n",
       "       Related ID Lineage Nuc.Completeness Sequence Length Sequence Quality  \\\n",
       "0  EPI_ISL_402132       B         Complete           29848             High   \n",
       "1             NaN       B         Complete           29859             High   \n",
       "2             NaN       B         Complete           29848             High   \n",
       "\n",
       "  Quality Assessment         `Host Sample Collection Date  \\\n",
       "0          0/0/-/-/-  Homo sapiens             2019-12-30   \n",
       "1          0/0/-/-/-  Homo sapiens             2020-01-13   \n",
       "2          0/0/-/-/-  Homo sapiens             2020-01-08   \n",
       "\n",
       "                        Location  \\\n",
       "0                  China / Hubei   \n",
       "1  Thailand/ Nonthaburi Province   \n",
       "2  Thailand/ Nonthaburi Province   \n",
       "\n",
       "                                     Originating Lab Submit Date  \\\n",
       "0  Hubei Provincial Center for Disease Control an...  2020-01-19   \n",
       "1  Department of Medical Sciences, Ministry of Pu...  2020-01-17   \n",
       "2  Department of Medical Sciences, Ministry of Pu...  2020-01-17   \n",
       "\n",
       "                                     Submission Date       Submitting Lab  \\\n",
       "0  Hubei Provincial Center for Disease Control an...  2020-01-20 12:04:48   \n",
       "1  Department of Medical Sciences, Ministry of Pu...  2020-01-20 12:04:48   \n",
       "2  Department of Medical Sciences, Ministry of Pu...  2020-01-20 12:04:48   \n",
       "\n",
       "           Create Time  Last Update Time  \n",
       "0  2021-03-16 10:46:59               NaN  \n",
       "1  2021-03-16 10:46:59               NaN  \n",
       "2  2021-03-16 10:46:59               NaN  "
      ]
     },
     "execution_count": 4,
     "metadata": {},
     "output_type": "execute_result"
    }
   ],
   "source": [
    "df = pd.read_csv('metadata.tsv', sep=\"\\t\")\n",
    "df.head(3)"
   ]
  },
  {
   "cell_type": "code",
   "execution_count": 9,
   "id": "breeding-discretion",
   "metadata": {},
   "outputs": [
    {
     "data": {
      "text/plain": [
       "Data Source\n",
       "CNGBdb                   87\n",
       "GISAID              1317654\n",
       "GenBank              489084\n",
       "Genbank                1142\n",
       "Genome Warehouse        245\n",
       "NMDC                    287\n",
       "Name: Virus Strain Name, dtype: int64"
      ]
     },
     "execution_count": 9,
     "metadata": {},
     "output_type": "execute_result"
    }
   ],
   "source": [
    "data_sources = df.groupby(['Data Source']).count()['Virus Strain Name']\n",
    "data_sources"
   ]
  },
  {
   "cell_type": "code",
   "execution_count": null,
   "id": "addressed-surprise",
   "metadata": {},
   "outputs": [],
   "source": []
  },
  {
   "cell_type": "code",
   "execution_count": 14,
   "id": "dependent-simulation",
   "metadata": {},
   "outputs": [
    {
     "data": {
      "text/plain": [
       "<AxesSubplot:xlabel='Data Source'>"
      ]
     },
     "execution_count": 14,
     "metadata": {},
     "output_type": "execute_result"
    },
    {
     "data": {
      "image/png": "[encoded data removed]",
      "text/plain": [
       "<Figure size 720x720 with 1 Axes>"
      ]
     },
     "metadata": {
      "needs_background": "light"
     },
     "output_type": "display_data"
    }
   ],
   "source": [
    "fig, ax = plt.subplots(figsize=(10,10))\n",
    "data_sources.plot.bar(y='Data Source', ax = ax)"
   ]
  },
  {
   "cell_type": "code",
   "execution_count": 16,
   "id": "domestic-cemetery",
   "metadata": {},
   "outputs": [
    {
     "data": {
      "text/plain": [
       "Data Source\n",
       "CNGBdb              0.000048\n",
       "GISAID              0.728590\n",
       "GenBank             0.270436\n",
       "Genbank             0.000631\n",
       "Genome Warehouse    0.000135\n",
       "NMDC                0.000159\n",
       "Name: Virus Strain Name, dtype: float64"
      ]
     },
     "execution_count": 16,
     "metadata": {},
     "output_type": "execute_result"
    }
   ],
   "source": [
    "data_sources / data_sources.sum()"
   ]
  },
  {
   "cell_type": "code",
   "execution_count": null,
   "id": "extensive-manchester",
   "metadata": {},
   "outputs": [],
   "source": []
  }
 ],
 "metadata": {
  "kernelspec": {
   "display_name": "covid-datasets",
   "language": "python",
   "name": "covid-datasets"
  },
  "language_info": {
   "codemirror_mode": {
    "name": "ipython",
    "version": 3
   },
   "file_extension": ".py",
   "mimetype": "text/x-python",
   "name": "python",
   "nbconvert_exporter": "python",
   "pygments_lexer": "ipython3",
   "version": "3.8.5"
  }
 },
 "nbformat": 4,
 "nbformat_minor": 5
}
